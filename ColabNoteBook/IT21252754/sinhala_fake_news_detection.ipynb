{
  "metadata": {
    "kernelspec": {
      "name": "python3",
      "display_name": "Python 3",
      "language": "python"
    },
    "language_info": {
      "name": "python",
      "version": "3.10.14",
      "mimetype": "text/x-python",
      "codemirror_mode": {
        "name": "ipython",
        "version": 3
      },
      "pygments_lexer": "ipython3",
      "nbconvert_exporter": "python",
      "file_extension": ".py"
    },
    "colab": {
      "provenance": [],
      "gpuType": "T4"
    },
    "accelerator": "GPU",
    "kaggle": {
      "accelerator": "gpu",
      "dataSources": [
        {
          "sourceId": 10049495,
          "sourceType": "datasetVersion",
          "datasetId": 6191701
        },
        {
          "sourceId": 10055124,
          "sourceType": "datasetVersion",
          "datasetId": 6195770
        },
        {
          "sourceId": 10061358,
          "sourceType": "datasetVersion",
          "datasetId": 6200354
        }
      ],
      "dockerImageVersionId": 30787,
      "isInternetEnabled": true,
      "language": "python",
      "sourceType": "notebook",
      "isGpuEnabled": true
    },
    "widgets": {
      "application/vnd.jupyter.widget-state+json": {
        "b33e9df5f20546969193dbd92ac42ec9": {
          "model_module": "@jupyter-widgets/controls",
          "model_name": "HBoxModel",
          "model_module_version": "1.5.0",
          "state": {
            "_dom_classes": [],
            "_model_module": "@jupyter-widgets/controls",
            "_model_module_version": "1.5.0",
            "_model_name": "HBoxModel",
            "_view_count": null,
            "_view_module": "@jupyter-widgets/controls",
            "_view_module_version": "1.5.0",
            "_view_name": "HBoxView",
            "box_style": "",
            "children": [
              "IPY_MODEL_1c6f62ce04874c68b0fd2a53d593cbb8",
              "IPY_MODEL_396c0d99e4974989a11cb8201ec22b3b",
              "IPY_MODEL_6ba42bb9f0b141b1aeb6d06624aa9a09"
            ],
            "layout": "IPY_MODEL_3c9ef5709d744110939b6f6848d5eb9d"
          }
        },
        "1c6f62ce04874c68b0fd2a53d593cbb8": {
          "model_module": "@jupyter-widgets/controls",
          "model_name": "HTMLModel",
          "model_module_version": "1.5.0",
          "state": {
            "_dom_classes": [],
            "_model_module": "@jupyter-widgets/controls",
            "_model_module_version": "1.5.0",
            "_model_name": "HTMLModel",
            "_view_count": null,
            "_view_module": "@jupyter-widgets/controls",
            "_view_module_version": "1.5.0",
            "_view_name": "HTMLView",
            "description": "",
            "description_tooltip": null,
            "layout": "IPY_MODEL_c3ec73fdf32145ce8ded019db7b809e1",
            "placeholder": "​",
            "style": "IPY_MODEL_6c26473d85464ef98a8f9a8749545c5b",
            "value": "config.json: 100%"
          }
        },
        "396c0d99e4974989a11cb8201ec22b3b": {
          "model_module": "@jupyter-widgets/controls",
          "model_name": "FloatProgressModel",
          "model_module_version": "1.5.0",
          "state": {
            "_dom_classes": [],
            "_model_module": "@jupyter-widgets/controls",
            "_model_module_version": "1.5.0",
            "_model_name": "FloatProgressModel",
            "_view_count": null,
            "_view_module": "@jupyter-widgets/controls",
            "_view_module_version": "1.5.0",
            "_view_name": "ProgressView",
            "bar_style": "success",
            "description": "",
            "description_tooltip": null,
            "layout": "IPY_MODEL_a8adaf1fa6a14a6e9434be39a5701f2c",
            "max": 722,
            "min": 0,
            "orientation": "horizontal",
            "style": "IPY_MODEL_c8ed13cd12084373bb7719a602663170",
            "value": 722
          }
        },
        "6ba42bb9f0b141b1aeb6d06624aa9a09": {
          "model_module": "@jupyter-widgets/controls",
          "model_name": "HTMLModel",
          "model_module_version": "1.5.0",
          "state": {
            "_dom_classes": [],
            "_model_module": "@jupyter-widgets/controls",
            "_model_module_version": "1.5.0",
            "_model_name": "HTMLModel",
            "_view_count": null,
            "_view_module": "@jupyter-widgets/controls",
            "_view_module_version": "1.5.0",
            "_view_name": "HTMLView",
            "description": "",
            "description_tooltip": null,
            "layout": "IPY_MODEL_58ff8e559d8e47239a71e2327b44987d",
            "placeholder": "​",
            "style": "IPY_MODEL_eb6303798bb24f6eb0f9aa237fac47ba",
            "value": " 722/722 [00:00&lt;00:00, 30.1kB/s]"
          }
        },
        "3c9ef5709d744110939b6f6848d5eb9d": {
          "model_module": "@jupyter-widgets/base",
          "model_name": "LayoutModel",
          "model_module_version": "1.2.0",
          "state": {
            "_model_module": "@jupyter-widgets/base",
            "_model_module_version": "1.2.0",
            "_model_name": "LayoutModel",
            "_view_count": null,
            "_view_module": "@jupyter-widgets/base",
            "_view_module_version": "1.2.0",
            "_view_name": "LayoutView",
            "align_content": null,
            "align_items": null,
            "align_self": null,
            "border": null,
            "bottom": null,
            "display": null,
            "flex": null,
            "flex_flow": null,
            "grid_area": null,
            "grid_auto_columns": null,
            "grid_auto_flow": null,
            "grid_auto_rows": null,
            "grid_column": null,
            "grid_gap": null,
            "grid_row": null,
            "grid_template_areas": null,
            "grid_template_columns": null,
            "grid_template_rows": null,
            "height": null,
            "justify_content": null,
            "justify_items": null,
            "left": null,
            "margin": null,
            "max_height": null,
            "max_width": null,
            "min_height": null,
            "min_width": null,
            "object_fit": null,
            "object_position": null,
            "order": null,
            "overflow": null,
            "overflow_x": null,
            "overflow_y": null,
            "padding": null,
            "right": null,
            "top": null,
            "visibility": null,
            "width": null
          }
        },
        "c3ec73fdf32145ce8ded019db7b809e1": {
          "model_module": "@jupyter-widgets/base",
          "model_name": "LayoutModel",
          "model_module_version": "1.2.0",
          "state": {
            "_model_module": "@jupyter-widgets/base",
            "_model_module_version": "1.2.0",
            "_model_name": "LayoutModel",
            "_view_count": null,
            "_view_module": "@jupyter-widgets/base",
            "_view_module_version": "1.2.0",
            "_view_name": "LayoutView",
            "align_content": null,
            "align_items": null,
            "align_self": null,
            "border": null,
            "bottom": null,
            "display": null,
            "flex": null,
            "flex_flow": null,
            "grid_area": null,
            "grid_auto_columns": null,
            "grid_auto_flow": null,
            "grid_auto_rows": null,
            "grid_column": null,
            "grid_gap": null,
            "grid_row": null,
            "grid_template_areas": null,
            "grid_template_columns": null,
            "grid_template_rows": null,
            "height": null,
            "justify_content": null,
            "justify_items": null,
            "left": null,
            "margin": null,
            "max_height": null,
            "max_width": null,
            "min_height": null,
            "min_width": null,
            "object_fit": null,
            "object_position": null,
            "order": null,
            "overflow": null,
            "overflow_x": null,
            "overflow_y": null,
            "padding": null,
            "right": null,
            "top": null,
            "visibility": null,
            "width": null
          }
        },
        "6c26473d85464ef98a8f9a8749545c5b": {
          "model_module": "@jupyter-widgets/controls",
          "model_name": "DescriptionStyleModel",
          "model_module_version": "1.5.0",
          "state": {
            "_model_module": "@jupyter-widgets/controls",
            "_model_module_version": "1.5.0",
            "_model_name": "DescriptionStyleModel",
            "_view_count": null,
            "_view_module": "@jupyter-widgets/base",
            "_view_module_version": "1.2.0",
            "_view_name": "StyleView",
            "description_width": ""
          }
        },
        "a8adaf1fa6a14a6e9434be39a5701f2c": {
          "model_module": "@jupyter-widgets/base",
          "model_name": "LayoutModel",
          "model_module_version": "1.2.0",
          "state": {
            "_model_module": "@jupyter-widgets/base",
            "_model_module_version": "1.2.0",
            "_model_name": "LayoutModel",
            "_view_count": null,
            "_view_module": "@jupyter-widgets/base",
            "_view_module_version": "1.2.0",
            "_view_name": "LayoutView",
            "align_content": null,
            "align_items": null,
            "align_self": null,
            "border": null,
            "bottom": null,
            "display": null,
            "flex": null,
            "flex_flow": null,
            "grid_area": null,
            "grid_auto_columns": null,
            "grid_auto_flow": null,
            "grid_auto_rows": null,
            "grid_column": null,
            "grid_gap": null,
            "grid_row": null,
            "grid_template_areas": null,
            "grid_template_columns": null,
            "grid_template_rows": null,
            "height": null,
            "justify_content": null,
            "justify_items": null,
            "left": null,
            "margin": null,
            "max_height": null,
            "max_width": null,
            "min_height": null,
            "min_width": null,
            "object_fit": null,
            "object_position": null,
            "order": null,
            "overflow": null,
            "overflow_x": null,
            "overflow_y": null,
            "padding": null,
            "right": null,
            "top": null,
            "visibility": null,
            "width": null
          }
        },
        "c8ed13cd12084373bb7719a602663170": {
          "model_module": "@jupyter-widgets/controls",
          "model_name": "ProgressStyleModel",
          "model_module_version": "1.5.0",
          "state": {
            "_model_module": "@jupyter-widgets/controls",
            "_model_module_version": "1.5.0",
            "_model_name": "ProgressStyleModel",
            "_view_count": null,
            "_view_module": "@jupyter-widgets/base",
            "_view_module_version": "1.2.0",
            "_view_name": "StyleView",
            "bar_color": null,
            "description_width": ""
          }
        },
        "58ff8e559d8e47239a71e2327b44987d": {
          "model_module": "@jupyter-widgets/base",
          "model_name": "LayoutModel",
          "model_module_version": "1.2.0",
          "state": {
            "_model_module": "@jupyter-widgets/base",
            "_model_module_version": "1.2.0",
            "_model_name": "LayoutModel",
            "_view_count": null,
            "_view_module": "@jupyter-widgets/base",
            "_view_module_version": "1.2.0",
            "_view_name": "LayoutView",
            "align_content": null,
            "align_items": null,
            "align_self": null,
            "border": null,
            "bottom": null,
            "display": null,
            "flex": null,
            "flex_flow": null,
            "grid_area": null,
            "grid_auto_columns": null,
            "grid_auto_flow": null,
            "grid_auto_rows": null,
            "grid_column": null,
            "grid_gap": null,
            "grid_row": null,
            "grid_template_areas": null,
            "grid_template_columns": null,
            "grid_template_rows": null,
            "height": null,
            "justify_content": null,
            "justify_items": null,
            "left": null,
            "margin": null,
            "max_height": null,
            "max_width": null,
            "min_height": null,
            "min_width": null,
            "object_fit": null,
            "object_position": null,
            "order": null,
            "overflow": null,
            "overflow_x": null,
            "overflow_y": null,
            "padding": null,
            "right": null,
            "top": null,
            "visibility": null,
            "width": null
          }
        },
        "eb6303798bb24f6eb0f9aa237fac47ba": {
          "model_module": "@jupyter-widgets/controls",
          "model_name": "DescriptionStyleModel",
          "model_module_version": "1.5.0",
          "state": {
            "_model_module": "@jupyter-widgets/controls",
            "_model_module_version": "1.5.0",
            "_model_name": "DescriptionStyleModel",
            "_view_count": null,
            "_view_module": "@jupyter-widgets/base",
            "_view_module_version": "1.2.0",
            "_view_name": "StyleView",
            "description_width": ""
          }
        },
        "a925907d388147d69b92fdff19d1a831": {
          "model_module": "@jupyter-widgets/controls",
          "model_name": "HBoxModel",
          "model_module_version": "1.5.0",
          "state": {
            "_dom_classes": [],
            "_model_module": "@jupyter-widgets/controls",
            "_model_module_version": "1.5.0",
            "_model_name": "HBoxModel",
            "_view_count": null,
            "_view_module": "@jupyter-widgets/controls",
            "_view_module_version": "1.5.0",
            "_view_name": "HBoxView",
            "box_style": "",
            "children": [
              "IPY_MODEL_792a6a4dafed4955a2615a06c3d56366",
              "IPY_MODEL_b554dcfac4fb4a8caf79de6dc8f16ff6",
              "IPY_MODEL_6a99ae610339403a8a62f8743fd0b380"
            ],
            "layout": "IPY_MODEL_d8e0de92981a49ba863e5effe5921362"
          }
        },
        "792a6a4dafed4955a2615a06c3d56366": {
          "model_module": "@jupyter-widgets/controls",
          "model_name": "HTMLModel",
          "model_module_version": "1.5.0",
          "state": {
            "_dom_classes": [],
            "_model_module": "@jupyter-widgets/controls",
            "_model_module_version": "1.5.0",
            "_model_name": "HTMLModel",
            "_view_count": null,
            "_view_module": "@jupyter-widgets/controls",
            "_view_module_version": "1.5.0",
            "_view_name": "HTMLView",
            "description": "",
            "description_tooltip": null,
            "layout": "IPY_MODEL_557048de22f841ffa53bc414bf5dd36f",
            "placeholder": "​",
            "style": "IPY_MODEL_6a6bb7a4c78e47b0a5892f237cf9867e",
            "value": "vocab.json: 100%"
          }
        },
        "b554dcfac4fb4a8caf79de6dc8f16ff6": {
          "model_module": "@jupyter-widgets/controls",
          "model_name": "FloatProgressModel",
          "model_module_version": "1.5.0",
          "state": {
            "_dom_classes": [],
            "_model_module": "@jupyter-widgets/controls",
            "_model_module_version": "1.5.0",
            "_model_name": "FloatProgressModel",
            "_view_count": null,
            "_view_module": "@jupyter-widgets/controls",
            "_view_module_version": "1.5.0",
            "_view_name": "ProgressView",
            "bar_style": "success",
            "description": "",
            "description_tooltip": null,
            "layout": "IPY_MODEL_6e24f48428664126a9013e0d0bd8876d",
            "max": 1500217,
            "min": 0,
            "orientation": "horizontal",
            "style": "IPY_MODEL_9df86a58164b46678daed495478eb0c4",
            "value": 1500217
          }
        },
        "6a99ae610339403a8a62f8743fd0b380": {
          "model_module": "@jupyter-widgets/controls",
          "model_name": "HTMLModel",
          "model_module_version": "1.5.0",
          "state": {
            "_dom_classes": [],
            "_model_module": "@jupyter-widgets/controls",
            "_model_module_version": "1.5.0",
            "_model_name": "HTMLModel",
            "_view_count": null,
            "_view_module": "@jupyter-widgets/controls",
            "_view_module_version": "1.5.0",
            "_view_name": "HTMLView",
            "description": "",
            "description_tooltip": null,
            "layout": "IPY_MODEL_7e5a8194962942908135d460be7bbbd7",
            "placeholder": "​",
            "style": "IPY_MODEL_9b879e25166b44f49358756142be2655",
            "value": " 1.50M/1.50M [00:00&lt;00:00, 1.79MB/s]"
          }
        },
        "d8e0de92981a49ba863e5effe5921362": {
          "model_module": "@jupyter-widgets/base",
          "model_name": "LayoutModel",
          "model_module_version": "1.2.0",
          "state": {
            "_model_module": "@jupyter-widgets/base",
            "_model_module_version": "1.2.0",
            "_model_name": "LayoutModel",
            "_view_count": null,
            "_view_module": "@jupyter-widgets/base",
            "_view_module_version": "1.2.0",
            "_view_name": "LayoutView",
            "align_content": null,
            "align_items": null,
            "align_self": null,
            "border": null,
            "bottom": null,
            "display": null,
            "flex": null,
            "flex_flow": null,
            "grid_area": null,
            "grid_auto_columns": null,
            "grid_auto_flow": null,
            "grid_auto_rows": null,
            "grid_column": null,
            "grid_gap": null,
            "grid_row": null,
            "grid_template_areas": null,
            "grid_template_columns": null,
            "grid_template_rows": null,
            "height": null,
            "justify_content": null,
            "justify_items": null,
            "left": null,
            "margin": null,
            "max_height": null,
            "max_width": null,
            "min_height": null,
            "min_width": null,
            "object_fit": null,
            "object_position": null,
            "order": null,
            "overflow": null,
            "overflow_x": null,
            "overflow_y": null,
            "padding": null,
            "right": null,
            "top": null,
            "visibility": null,
            "width": null
          }
        },
        "557048de22f841ffa53bc414bf5dd36f": {
          "model_module": "@jupyter-widgets/base",
          "model_name": "LayoutModel",
          "model_module_version": "1.2.0",
          "state": {
            "_model_module": "@jupyter-widgets/base",
            "_model_module_version": "1.2.0",
            "_model_name": "LayoutModel",
            "_view_count": null,
            "_view_module": "@jupyter-widgets/base",
            "_view_module_version": "1.2.0",
            "_view_name": "LayoutView",
            "align_content": null,
            "align_items": null,
            "align_self": null,
            "border": null,
            "bottom": null,
            "display": null,
            "flex": null,
            "flex_flow": null,
            "grid_area": null,
            "grid_auto_columns": null,
            "grid_auto_flow": null,
            "grid_auto_rows": null,
            "grid_column": null,
            "grid_gap": null,
            "grid_row": null,
            "grid_template_areas": null,
            "grid_template_columns": null,
            "grid_template_rows": null,
            "height": null,
            "justify_content": null,
            "justify_items": null,
            "left": null,
            "margin": null,
            "max_height": null,
            "max_width": null,
            "min_height": null,
            "min_width": null,
            "object_fit": null,
            "object_position": null,
            "order": null,
            "overflow": null,
            "overflow_x": null,
            "overflow_y": null,
            "padding": null,
            "right": null,
            "top": null,
            "visibility": null,
            "width": null
          }
        },
        "6a6bb7a4c78e47b0a5892f237cf9867e": {
          "model_module": "@jupyter-widgets/controls",
          "model_name": "DescriptionStyleModel",
          "model_module_version": "1.5.0",
          "state": {
            "_model_module": "@jupyter-widgets/controls",
            "_model_module_version": "1.5.0",
            "_model_name": "DescriptionStyleModel",
            "_view_count": null,
            "_view_module": "@jupyter-widgets/base",
            "_view_module_version": "1.2.0",
            "_view_name": "StyleView",
            "description_width": ""
          }
        },
        "6e24f48428664126a9013e0d0bd8876d": {
          "model_module": "@jupyter-widgets/base",
          "model_name": "LayoutModel",
          "model_module_version": "1.2.0",
          "state": {
            "_model_module": "@jupyter-widgets/base",
            "_model_module_version": "1.2.0",
            "_model_name": "LayoutModel",
            "_view_count": null,
            "_view_module": "@jupyter-widgets/base",
            "_view_module_version": "1.2.0",
            "_view_name": "LayoutView",
            "align_content": null,
            "align_items": null,
            "align_self": null,
            "border": null,
            "bottom": null,
            "display": null,
            "flex": null,
            "flex_flow": null,
            "grid_area": null,
            "grid_auto_columns": null,
            "grid_auto_flow": null,
            "grid_auto_rows": null,
            "grid_column": null,
            "grid_gap": null,
            "grid_row": null,
            "grid_template_areas": null,
            "grid_template_columns": null,
            "grid_template_rows": null,
            "height": null,
            "justify_content": null,
            "justify_items": null,
            "left": null,
            "margin": null,
            "max_height": null,
            "max_width": null,
            "min_height": null,
            "min_width": null,
            "object_fit": null,
            "object_position": null,
            "order": null,
            "overflow": null,
            "overflow_x": null,
            "overflow_y": null,
            "padding": null,
            "right": null,
            "top": null,
            "visibility": null,
            "width": null
          }
        },
        "9df86a58164b46678daed495478eb0c4": {
          "model_module": "@jupyter-widgets/controls",
          "model_name": "ProgressStyleModel",
          "model_module_version": "1.5.0",
          "state": {
            "_model_module": "@jupyter-widgets/controls",
            "_model_module_version": "1.5.0",
            "_model_name": "ProgressStyleModel",
            "_view_count": null,
            "_view_module": "@jupyter-widgets/base",
            "_view_module_version": "1.2.0",
            "_view_name": "StyleView",
            "bar_color": null,
            "description_width": ""
          }
        },
        "7e5a8194962942908135d460be7bbbd7": {
          "model_module": "@jupyter-widgets/base",
          "model_name": "LayoutModel",
          "model_module_version": "1.2.0",
          "state": {
            "_model_module": "@jupyter-widgets/base",
            "_model_module_version": "1.2.0",
            "_model_name": "LayoutModel",
            "_view_count": null,
            "_view_module": "@jupyter-widgets/base",
            "_view_module_version": "1.2.0",
            "_view_name": "LayoutView",
            "align_content": null,
            "align_items": null,
            "align_self": null,
            "border": null,
            "bottom": null,
            "display": null,
            "flex": null,
            "flex_flow": null,
            "grid_area": null,
            "grid_auto_columns": null,
            "grid_auto_flow": null,
            "grid_auto_rows": null,
            "grid_column": null,
            "grid_gap": null,
            "grid_row": null,
            "grid_template_areas": null,
            "grid_template_columns": null,
            "grid_template_rows": null,
            "height": null,
            "justify_content": null,
            "justify_items": null,
            "left": null,
            "margin": null,
            "max_height": null,
            "max_width": null,
            "min_height": null,
            "min_width": null,
            "object_fit": null,
            "object_position": null,
            "order": null,
            "overflow": null,
            "overflow_x": null,
            "overflow_y": null,
            "padding": null,
            "right": null,
            "top": null,
            "visibility": null,
            "width": null
          }
        },
        "9b879e25166b44f49358756142be2655": {
          "model_module": "@jupyter-widgets/controls",
          "model_name": "DescriptionStyleModel",
          "model_module_version": "1.5.0",
          "state": {
            "_model_module": "@jupyter-widgets/controls",
            "_model_module_version": "1.5.0",
            "_model_name": "DescriptionStyleModel",
            "_view_count": null,
            "_view_module": "@jupyter-widgets/base",
            "_view_module_version": "1.2.0",
            "_view_name": "StyleView",
            "description_width": ""
          }
        },
        "7ef6f4b8c5494200813eaa59fa5b8f5a": {
          "model_module": "@jupyter-widgets/controls",
          "model_name": "HBoxModel",
          "model_module_version": "1.5.0",
          "state": {
            "_dom_classes": [],
            "_model_module": "@jupyter-widgets/controls",
            "_model_module_version": "1.5.0",
            "_model_name": "HBoxModel",
            "_view_count": null,
            "_view_module": "@jupyter-widgets/controls",
            "_view_module_version": "1.5.0",
            "_view_name": "HBoxView",
            "box_style": "",
            "children": [
              "IPY_MODEL_d08ff0edaa0f4164ae4a19fbedb614ce",
              "IPY_MODEL_acf14f15af2144c9831a6f86aad9f287",
              "IPY_MODEL_1ded1f51b871463fa4f4036cf48700bc"
            ],
            "layout": "IPY_MODEL_5b67cd07684448e290f7b60ca76a3f83"
          }
        },
        "d08ff0edaa0f4164ae4a19fbedb614ce": {
          "model_module": "@jupyter-widgets/controls",
          "model_name": "HTMLModel",
          "model_module_version": "1.5.0",
          "state": {
            "_dom_classes": [],
            "_model_module": "@jupyter-widgets/controls",
            "_model_module_version": "1.5.0",
            "_model_name": "HTMLModel",
            "_view_count": null,
            "_view_module": "@jupyter-widgets/controls",
            "_view_module_version": "1.5.0",
            "_view_name": "HTMLView",
            "description": "",
            "description_tooltip": null,
            "layout": "IPY_MODEL_1c71635891ee47179e7d0631cf05044c",
            "placeholder": "​",
            "style": "IPY_MODEL_cf619a1d6a3b4f018f52739b88d52d82",
            "value": "merges.txt: 100%"
          }
        },
        "acf14f15af2144c9831a6f86aad9f287": {
          "model_module": "@jupyter-widgets/controls",
          "model_name": "FloatProgressModel",
          "model_module_version": "1.5.0",
          "state": {
            "_dom_classes": [],
            "_model_module": "@jupyter-widgets/controls",
            "_model_module_version": "1.5.0",
            "_model_name": "FloatProgressModel",
            "_view_count": null,
            "_view_module": "@jupyter-widgets/controls",
            "_view_module_version": "1.5.0",
            "_view_name": "ProgressView",
            "bar_style": "success",
            "description": "",
            "description_tooltip": null,
            "layout": "IPY_MODEL_91f7717d78194f9d86d5e5bab0e0902e",
            "max": 1146413,
            "min": 0,
            "orientation": "horizontal",
            "style": "IPY_MODEL_a1856f0e16054143b2a100fdac69a9d9",
            "value": 1146413
          }
        },
        "1ded1f51b871463fa4f4036cf48700bc": {
          "model_module": "@jupyter-widgets/controls",
          "model_name": "HTMLModel",
          "model_module_version": "1.5.0",
          "state": {
            "_dom_classes": [],
            "_model_module": "@jupyter-widgets/controls",
            "_model_module_version": "1.5.0",
            "_model_name": "HTMLModel",
            "_view_count": null,
            "_view_module": "@jupyter-widgets/controls",
            "_view_module_version": "1.5.0",
            "_view_name": "HTMLView",
            "description": "",
            "description_tooltip": null,
            "layout": "IPY_MODEL_3b4d3180a24947cb8c50685dfdcc73aa",
            "placeholder": "​",
            "style": "IPY_MODEL_69b009f6f6944d3089caab25510bc96b",
            "value": " 1.15M/1.15M [00:01&lt;00:00, 1.09MB/s]"
          }
        },
        "5b67cd07684448e290f7b60ca76a3f83": {
          "model_module": "@jupyter-widgets/base",
          "model_name": "LayoutModel",
          "model_module_version": "1.2.0",
          "state": {
            "_model_module": "@jupyter-widgets/base",
            "_model_module_version": "1.2.0",
            "_model_name": "LayoutModel",
            "_view_count": null,
            "_view_module": "@jupyter-widgets/base",
            "_view_module_version": "1.2.0",
            "_view_name": "LayoutView",
            "align_content": null,
            "align_items": null,
            "align_self": null,
            "border": null,
            "bottom": null,
            "display": null,
            "flex": null,
            "flex_flow": null,
            "grid_area": null,
            "grid_auto_columns": null,
            "grid_auto_flow": null,
            "grid_auto_rows": null,
            "grid_column": null,
            "grid_gap": null,
            "grid_row": null,
            "grid_template_areas": null,
            "grid_template_columns": null,
            "grid_template_rows": null,
            "height": null,
            "justify_content": null,
            "justify_items": null,
            "left": null,
            "margin": null,
            "max_height": null,
            "max_width": null,
            "min_height": null,
            "min_width": null,
            "object_fit": null,
            "object_position": null,
            "order": null,
            "overflow": null,
            "overflow_x": null,
            "overflow_y": null,
            "padding": null,
            "right": null,
            "top": null,
            "visibility": null,
            "width": null
          }
        },
        "1c71635891ee47179e7d0631cf05044c": {
          "model_module": "@jupyter-widgets/base",
          "model_name": "LayoutModel",
          "model_module_version": "1.2.0",
          "state": {
            "_model_module": "@jupyter-widgets/base",
            "_model_module_version": "1.2.0",
            "_model_name": "LayoutModel",
            "_view_count": null,
            "_view_module": "@jupyter-widgets/base",
            "_view_module_version": "1.2.0",
            "_view_name": "LayoutView",
            "align_content": null,
            "align_items": null,
            "align_self": null,
            "border": null,
            "bottom": null,
            "display": null,
            "flex": null,
            "flex_flow": null,
            "grid_area": null,
            "grid_auto_columns": null,
            "grid_auto_flow": null,
            "grid_auto_rows": null,
            "grid_column": null,
            "grid_gap": null,
            "grid_row": null,
            "grid_template_areas": null,
            "grid_template_columns": null,
            "grid_template_rows": null,
            "height": null,
            "justify_content": null,
            "justify_items": null,
            "left": null,
            "margin": null,
            "max_height": null,
            "max_width": null,
            "min_height": null,
            "min_width": null,
            "object_fit": null,
            "object_position": null,
            "order": null,
            "overflow": null,
            "overflow_x": null,
            "overflow_y": null,
            "padding": null,
            "right": null,
            "top": null,
            "visibility": null,
            "width": null
          }
        },
        "cf619a1d6a3b4f018f52739b88d52d82": {
          "model_module": "@jupyter-widgets/controls",
          "model_name": "DescriptionStyleModel",
          "model_module_version": "1.5.0",
          "state": {
            "_model_module": "@jupyter-widgets/controls",
            "_model_module_version": "1.5.0",
            "_model_name": "DescriptionStyleModel",
            "_view_count": null,
            "_view_module": "@jupyter-widgets/base",
            "_view_module_version": "1.2.0",
            "_view_name": "StyleView",
            "description_width": ""
          }
        },
        "91f7717d78194f9d86d5e5bab0e0902e": {
          "model_module": "@jupyter-widgets/base",
          "model_name": "LayoutModel",
          "model_module_version": "1.2.0",
          "state": {
            "_model_module": "@jupyter-widgets/base",
            "_model_module_version": "1.2.0",
            "_model_name": "LayoutModel",
            "_view_count": null,
            "_view_module": "@jupyter-widgets/base",
            "_view_module_version": "1.2.0",
            "_view_name": "LayoutView",
            "align_content": null,
            "align_items": null,
            "align_self": null,
            "border": null,
            "bottom": null,
            "display": null,
            "flex": null,
            "flex_flow": null,
            "grid_area": null,
            "grid_auto_columns": null,
            "grid_auto_flow": null,
            "grid_auto_rows": null,
            "grid_column": null,
            "grid_gap": null,
            "grid_row": null,
            "grid_template_areas": null,
            "grid_template_columns": null,
            "grid_template_rows": null,
            "height": null,
            "justify_content": null,
            "justify_items": null,
            "left": null,
            "margin": null,
            "max_height": null,
            "max_width": null,
            "min_height": null,
            "min_width": null,
            "object_fit": null,
            "object_position": null,
            "order": null,
            "overflow": null,
            "overflow_x": null,
            "overflow_y": null,
            "padding": null,
            "right": null,
            "top": null,
            "visibility": null,
            "width": null
          }
        },
        "a1856f0e16054143b2a100fdac69a9d9": {
          "model_module": "@jupyter-widgets/controls",
          "model_name": "ProgressStyleModel",
          "model_module_version": "1.5.0",
          "state": {
            "_model_module": "@jupyter-widgets/controls",
            "_model_module_version": "1.5.0",
            "_model_name": "ProgressStyleModel",
            "_view_count": null,
            "_view_module": "@jupyter-widgets/base",
            "_view_module_version": "1.2.0",
            "_view_name": "StyleView",
            "bar_color": null,
            "description_width": ""
          }
        },
        "3b4d3180a24947cb8c50685dfdcc73aa": {
          "model_module": "@jupyter-widgets/base",
          "model_name": "LayoutModel",
          "model_module_version": "1.2.0",
          "state": {
            "_model_module": "@jupyter-widgets/base",
            "_model_module_version": "1.2.0",
            "_model_name": "LayoutModel",
            "_view_count": null,
            "_view_module": "@jupyter-widgets/base",
            "_view_module_version": "1.2.0",
            "_view_name": "LayoutView",
            "align_content": null,
            "align_items": null,
            "align_self": null,
            "border": null,
            "bottom": null,
            "display": null,
            "flex": null,
            "flex_flow": null,
            "grid_area": null,
            "grid_auto_columns": null,
            "grid_auto_flow": null,
            "grid_auto_rows": null,
            "grid_column": null,
            "grid_gap": null,
            "grid_row": null,
            "grid_template_areas": null,
            "grid_template_columns": null,
            "grid_template_rows": null,
            "height": null,
            "justify_content": null,
            "justify_items": null,
            "left": null,
            "margin": null,
            "max_height": null,
            "max_width": null,
            "min_height": null,
            "min_width": null,
            "object_fit": null,
            "object_position": null,
            "order": null,
            "overflow": null,
            "overflow_x": null,
            "overflow_y": null,
            "padding": null,
            "right": null,
            "top": null,
            "visibility": null,
            "width": null
          }
        },
        "69b009f6f6944d3089caab25510bc96b": {
          "model_module": "@jupyter-widgets/controls",
          "model_name": "DescriptionStyleModel",
          "model_module_version": "1.5.0",
          "state": {
            "_model_module": "@jupyter-widgets/controls",
            "_model_module_version": "1.5.0",
            "_model_name": "DescriptionStyleModel",
            "_view_count": null,
            "_view_module": "@jupyter-widgets/base",
            "_view_module_version": "1.2.0",
            "_view_name": "StyleView",
            "description_width": ""
          }
        },
        "392961791156414a94b18316a924bbb5": {
          "model_module": "@jupyter-widgets/controls",
          "model_name": "HBoxModel",
          "model_module_version": "1.5.0",
          "state": {
            "_dom_classes": [],
            "_model_module": "@jupyter-widgets/controls",
            "_model_module_version": "1.5.0",
            "_model_name": "HBoxModel",
            "_view_count": null,
            "_view_module": "@jupyter-widgets/controls",
            "_view_module_version": "1.5.0",
            "_view_name": "HBoxView",
            "box_style": "",
            "children": [
              "IPY_MODEL_e95c033cc6d3488b8d3e4aa8ff537dd8",
              "IPY_MODEL_2f1ac87dd97144d49d7fe41bd66ba776",
              "IPY_MODEL_6339cfa72faf4d9ba3a9c1b403498bd9"
            ],
            "layout": "IPY_MODEL_f0e2349f1cac4be0b7461e693d709952"
          }
        },
        "e95c033cc6d3488b8d3e4aa8ff537dd8": {
          "model_module": "@jupyter-widgets/controls",
          "model_name": "HTMLModel",
          "model_module_version": "1.5.0",
          "state": {
            "_dom_classes": [],
            "_model_module": "@jupyter-widgets/controls",
            "_model_module_version": "1.5.0",
            "_model_name": "HTMLModel",
            "_view_count": null,
            "_view_module": "@jupyter-widgets/controls",
            "_view_module_version": "1.5.0",
            "_view_name": "HTMLView",
            "description": "",
            "description_tooltip": null,
            "layout": "IPY_MODEL_c6899780fa8046c6a820921a7958462f",
            "placeholder": "​",
            "style": "IPY_MODEL_66b99bac22944c638237a489ccac46ba",
            "value": "pytorch_model.bin: 100%"
          }
        },
        "2f1ac87dd97144d49d7fe41bd66ba776": {
          "model_module": "@jupyter-widgets/controls",
          "model_name": "FloatProgressModel",
          "model_module_version": "1.5.0",
          "state": {
            "_dom_classes": [],
            "_model_module": "@jupyter-widgets/controls",
            "_model_module_version": "1.5.0",
            "_model_name": "FloatProgressModel",
            "_view_count": null,
            "_view_module": "@jupyter-widgets/controls",
            "_view_module_version": "1.5.0",
            "_view_name": "ProgressView",
            "bar_style": "success",
            "description": "",
            "description_tooltip": null,
            "layout": "IPY_MODEL_7c2f55d351864f4c900f27fc8f1ea3c4",
            "max": 504198571,
            "min": 0,
            "orientation": "horizontal",
            "style": "IPY_MODEL_eaea7b06390a4395a7842f2d3d9f076b",
            "value": 504198571
          }
        },
        "6339cfa72faf4d9ba3a9c1b403498bd9": {
          "model_module": "@jupyter-widgets/controls",
          "model_name": "HTMLModel",
          "model_module_version": "1.5.0",
          "state": {
            "_dom_classes": [],
            "_model_module": "@jupyter-widgets/controls",
            "_model_module_version": "1.5.0",
            "_model_name": "HTMLModel",
            "_view_count": null,
            "_view_module": "@jupyter-widgets/controls",
            "_view_module_version": "1.5.0",
            "_view_name": "HTMLView",
            "description": "",
            "description_tooltip": null,
            "layout": "IPY_MODEL_b7eaaa8ff66c4bd7b684a0a5b71f2a72",
            "placeholder": "​",
            "style": "IPY_MODEL_08e5f3f0dca44ec69d9ba76ffa144030",
            "value": " 504M/504M [00:20&lt;00:00, 23.8MB/s]"
          }
        },
        "f0e2349f1cac4be0b7461e693d709952": {
          "model_module": "@jupyter-widgets/base",
          "model_name": "LayoutModel",
          "model_module_version": "1.2.0",
          "state": {
            "_model_module": "@jupyter-widgets/base",
            "_model_module_version": "1.2.0",
            "_model_name": "LayoutModel",
            "_view_count": null,
            "_view_module": "@jupyter-widgets/base",
            "_view_module_version": "1.2.0",
            "_view_name": "LayoutView",
            "align_content": null,
            "align_items": null,
            "align_self": null,
            "border": null,
            "bottom": null,
            "display": null,
            "flex": null,
            "flex_flow": null,
            "grid_area": null,
            "grid_auto_columns": null,
            "grid_auto_flow": null,
            "grid_auto_rows": null,
            "grid_column": null,
            "grid_gap": null,
            "grid_row": null,
            "grid_template_areas": null,
            "grid_template_columns": null,
            "grid_template_rows": null,
            "height": null,
            "justify_content": null,
            "justify_items": null,
            "left": null,
            "margin": null,
            "max_height": null,
            "max_width": null,
            "min_height": null,
            "min_width": null,
            "object_fit": null,
            "object_position": null,
            "order": null,
            "overflow": null,
            "overflow_x": null,
            "overflow_y": null,
            "padding": null,
            "right": null,
            "top": null,
            "visibility": null,
            "width": null
          }
        },
        "c6899780fa8046c6a820921a7958462f": {
          "model_module": "@jupyter-widgets/base",
          "model_name": "LayoutModel",
          "model_module_version": "1.2.0",
          "state": {
            "_model_module": "@jupyter-widgets/base",
            "_model_module_version": "1.2.0",
            "_model_name": "LayoutModel",
            "_view_count": null,
            "_view_module": "@jupyter-widgets/base",
            "_view_module_version": "1.2.0",
            "_view_name": "LayoutView",
            "align_content": null,
            "align_items": null,
            "align_self": null,
            "border": null,
            "bottom": null,
            "display": null,
            "flex": null,
            "flex_flow": null,
            "grid_area": null,
            "grid_auto_columns": null,
            "grid_auto_flow": null,
            "grid_auto_rows": null,
            "grid_column": null,
            "grid_gap": null,
            "grid_row": null,
            "grid_template_areas": null,
            "grid_template_columns": null,
            "grid_template_rows": null,
            "height": null,
            "justify_content": null,
            "justify_items": null,
            "left": null,
            "margin": null,
            "max_height": null,
            "max_width": null,
            "min_height": null,
            "min_width": null,
            "object_fit": null,
            "object_position": null,
            "order": null,
            "overflow": null,
            "overflow_x": null,
            "overflow_y": null,
            "padding": null,
            "right": null,
            "top": null,
            "visibility": null,
            "width": null
          }
        },
        "66b99bac22944c638237a489ccac46ba": {
          "model_module": "@jupyter-widgets/controls",
          "model_name": "DescriptionStyleModel",
          "model_module_version": "1.5.0",
          "state": {
            "_model_module": "@jupyter-widgets/controls",
            "_model_module_version": "1.5.0",
            "_model_name": "DescriptionStyleModel",
            "_view_count": null,
            "_view_module": "@jupyter-widgets/base",
            "_view_module_version": "1.2.0",
            "_view_name": "StyleView",
            "description_width": ""
          }
        },
        "7c2f55d351864f4c900f27fc8f1ea3c4": {
          "model_module": "@jupyter-widgets/base",
          "model_name": "LayoutModel",
          "model_module_version": "1.2.0",
          "state": {
            "_model_module": "@jupyter-widgets/base",
            "_model_module_version": "1.2.0",
            "_model_name": "LayoutModel",
            "_view_count": null,
            "_view_module": "@jupyter-widgets/base",
            "_view_module_version": "1.2.0",
            "_view_name": "LayoutView",
            "align_content": null,
            "align_items": null,
            "align_self": null,
            "border": null,
            "bottom": null,
            "display": null,
            "flex": null,
            "flex_flow": null,
            "grid_area": null,
            "grid_auto_columns": null,
            "grid_auto_flow": null,
            "grid_auto_rows": null,
            "grid_column": null,
            "grid_gap": null,
            "grid_row": null,
            "grid_template_areas": null,
            "grid_template_columns": null,
            "grid_template_rows": null,
            "height": null,
            "justify_content": null,
            "justify_items": null,
            "left": null,
            "margin": null,
            "max_height": null,
            "max_width": null,
            "min_height": null,
            "min_width": null,
            "object_fit": null,
            "object_position": null,
            "order": null,
            "overflow": null,
            "overflow_x": null,
            "overflow_y": null,
            "padding": null,
            "right": null,
            "top": null,
            "visibility": null,
            "width": null
          }
        },
        "eaea7b06390a4395a7842f2d3d9f076b": {
          "model_module": "@jupyter-widgets/controls",
          "model_name": "ProgressStyleModel",
          "model_module_version": "1.5.0",
          "state": {
            "_model_module": "@jupyter-widgets/controls",
            "_model_module_version": "1.5.0",
            "_model_name": "ProgressStyleModel",
            "_view_count": null,
            "_view_module": "@jupyter-widgets/base",
            "_view_module_version": "1.2.0",
            "_view_name": "StyleView",
            "bar_color": null,
            "description_width": ""
          }
        },
        "b7eaaa8ff66c4bd7b684a0a5b71f2a72": {
          "model_module": "@jupyter-widgets/base",
          "model_name": "LayoutModel",
          "model_module_version": "1.2.0",
          "state": {
            "_model_module": "@jupyter-widgets/base",
            "_model_module_version": "1.2.0",
            "_model_name": "LayoutModel",
            "_view_count": null,
            "_view_module": "@jupyter-widgets/base",
            "_view_module_version": "1.2.0",
            "_view_name": "LayoutView",
            "align_content": null,
            "align_items": null,
            "align_self": null,
            "border": null,
            "bottom": null,
            "display": null,
            "flex": null,
            "flex_flow": null,
            "grid_area": null,
            "grid_auto_columns": null,
            "grid_auto_flow": null,
            "grid_auto_rows": null,
            "grid_column": null,
            "grid_gap": null,
            "grid_row": null,
            "grid_template_areas": null,
            "grid_template_columns": null,
            "grid_template_rows": null,
            "height": null,
            "justify_content": null,
            "justify_items": null,
            "left": null,
            "margin": null,
            "max_height": null,
            "max_width": null,
            "min_height": null,
            "min_width": null,
            "object_fit": null,
            "object_position": null,
            "order": null,
            "overflow": null,
            "overflow_x": null,
            "overflow_y": null,
            "padding": null,
            "right": null,
            "top": null,
            "visibility": null,
            "width": null
          }
        },
        "08e5f3f0dca44ec69d9ba76ffa144030": {
          "model_module": "@jupyter-widgets/controls",
          "model_name": "DescriptionStyleModel",
          "model_module_version": "1.5.0",
          "state": {
            "_model_module": "@jupyter-widgets/controls",
            "_model_module_version": "1.5.0",
            "_model_name": "DescriptionStyleModel",
            "_view_count": null,
            "_view_module": "@jupyter-widgets/base",
            "_view_module_version": "1.2.0",
            "_view_name": "StyleView",
            "description_width": ""
          }
        },
        "844b5d4726ec495590a5cc7361d49ac4": {
          "model_module": "@jupyter-widgets/controls",
          "model_name": "VBoxModel",
          "model_module_version": "1.5.0",
          "state": {
            "_dom_classes": [],
            "_model_module": "@jupyter-widgets/controls",
            "_model_module_version": "1.5.0",
            "_model_name": "VBoxModel",
            "_view_count": null,
            "_view_module": "@jupyter-widgets/controls",
            "_view_module_version": "1.5.0",
            "_view_name": "VBoxView",
            "box_style": "",
            "children": [
              "IPY_MODEL_25ff4b27e086479a9263218d397bc010",
              "IPY_MODEL_5d6e32d5ae2d4438ab055ee43c599656"
            ],
            "layout": "IPY_MODEL_a79d7e72603242bd965f21606718fd58"
          }
        },
        "25ff4b27e086479a9263218d397bc010": {
          "model_module": "@jupyter-widgets/controls",
          "model_name": "LabelModel",
          "model_module_version": "1.5.0",
          "state": {
            "_dom_classes": [],
            "_model_module": "@jupyter-widgets/controls",
            "_model_module_version": "1.5.0",
            "_model_name": "LabelModel",
            "_view_count": null,
            "_view_module": "@jupyter-widgets/controls",
            "_view_module_version": "1.5.0",
            "_view_name": "LabelView",
            "description": "",
            "description_tooltip": null,
            "layout": "IPY_MODEL_dd662b84dacb491283bf77b3868f36ae",
            "placeholder": "​",
            "style": "IPY_MODEL_d5deda82912f4807bd426855b2023c56",
            "value": "Waiting for wandb.init()...\r"
          }
        },
        "5d6e32d5ae2d4438ab055ee43c599656": {
          "model_module": "@jupyter-widgets/controls",
          "model_name": "FloatProgressModel",
          "model_module_version": "1.5.0",
          "state": {
            "_dom_classes": [],
            "_model_module": "@jupyter-widgets/controls",
            "_model_module_version": "1.5.0",
            "_model_name": "FloatProgressModel",
            "_view_count": null,
            "_view_module": "@jupyter-widgets/controls",
            "_view_module_version": "1.5.0",
            "_view_name": "ProgressView",
            "bar_style": "",
            "description": "",
            "description_tooltip": null,
            "layout": "IPY_MODEL_d9400d35e27c48f7a80c7ef30b38d274",
            "max": 1,
            "min": 0,
            "orientation": "horizontal",
            "style": "IPY_MODEL_50aaa8c9a0834698b88c4d4acebc9aa5",
            "value": 1
          }
        },
        "a79d7e72603242bd965f21606718fd58": {
          "model_module": "@jupyter-widgets/base",
          "model_name": "LayoutModel",
          "model_module_version": "1.2.0",
          "state": {
            "_model_module": "@jupyter-widgets/base",
            "_model_module_version": "1.2.0",
            "_model_name": "LayoutModel",
            "_view_count": null,
            "_view_module": "@jupyter-widgets/base",
            "_view_module_version": "1.2.0",
            "_view_name": "LayoutView",
            "align_content": null,
            "align_items": null,
            "align_self": null,
            "border": null,
            "bottom": null,
            "display": null,
            "flex": null,
            "flex_flow": null,
            "grid_area": null,
            "grid_auto_columns": null,
            "grid_auto_flow": null,
            "grid_auto_rows": null,
            "grid_column": null,
            "grid_gap": null,
            "grid_row": null,
            "grid_template_areas": null,
            "grid_template_columns": null,
            "grid_template_rows": null,
            "height": null,
            "justify_content": null,
            "justify_items": null,
            "left": null,
            "margin": null,
            "max_height": null,
            "max_width": null,
            "min_height": null,
            "min_width": null,
            "object_fit": null,
            "object_position": null,
            "order": null,
            "overflow": null,
            "overflow_x": null,
            "overflow_y": null,
            "padding": null,
            "right": null,
            "top": null,
            "visibility": null,
            "width": null
          }
        },
        "dd662b84dacb491283bf77b3868f36ae": {
          "model_module": "@jupyter-widgets/base",
          "model_name": "LayoutModel",
          "model_module_version": "1.2.0",
          "state": {
            "_model_module": "@jupyter-widgets/base",
            "_model_module_version": "1.2.0",
            "_model_name": "LayoutModel",
            "_view_count": null,
            "_view_module": "@jupyter-widgets/base",
            "_view_module_version": "1.2.0",
            "_view_name": "LayoutView",
            "align_content": null,
            "align_items": null,
            "align_self": null,
            "border": null,
            "bottom": null,
            "display": null,
            "flex": null,
            "flex_flow": null,
            "grid_area": null,
            "grid_auto_columns": null,
            "grid_auto_flow": null,
            "grid_auto_rows": null,
            "grid_column": null,
            "grid_gap": null,
            "grid_row": null,
            "grid_template_areas": null,
            "grid_template_columns": null,
            "grid_template_rows": null,
            "height": null,
            "justify_content": null,
            "justify_items": null,
            "left": null,
            "margin": null,
            "max_height": null,
            "max_width": null,
            "min_height": null,
            "min_width": null,
            "object_fit": null,
            "object_position": null,
            "order": null,
            "overflow": null,
            "overflow_x": null,
            "overflow_y": null,
            "padding": null,
            "right": null,
            "top": null,
            "visibility": null,
            "width": null
          }
        },
        "d5deda82912f4807bd426855b2023c56": {
          "model_module": "@jupyter-widgets/controls",
          "model_name": "DescriptionStyleModel",
          "model_module_version": "1.5.0",
          "state": {
            "_model_module": "@jupyter-widgets/controls",
            "_model_module_version": "1.5.0",
            "_model_name": "DescriptionStyleModel",
            "_view_count": null,
            "_view_module": "@jupyter-widgets/base",
            "_view_module_version": "1.2.0",
            "_view_name": "StyleView",
            "description_width": ""
          }
        },
        "d9400d35e27c48f7a80c7ef30b38d274": {
          "model_module": "@jupyter-widgets/base",
          "model_name": "LayoutModel",
          "model_module_version": "1.2.0",
          "state": {
            "_model_module": "@jupyter-widgets/base",
            "_model_module_version": "1.2.0",
            "_model_name": "LayoutModel",
            "_view_count": null,
            "_view_module": "@jupyter-widgets/base",
            "_view_module_version": "1.2.0",
            "_view_name": "LayoutView",
            "align_content": null,
            "align_items": null,
            "align_self": null,
            "border": null,
            "bottom": null,
            "display": null,
            "flex": null,
            "flex_flow": null,
            "grid_area": null,
            "grid_auto_columns": null,
            "grid_auto_flow": null,
            "grid_auto_rows": null,
            "grid_column": null,
            "grid_gap": null,
            "grid_row": null,
            "grid_template_areas": null,
            "grid_template_columns": null,
            "grid_template_rows": null,
            "height": null,
            "justify_content": null,
            "justify_items": null,
            "left": null,
            "margin": null,
            "max_height": null,
            "max_width": null,
            "min_height": null,
            "min_width": null,
            "object_fit": null,
            "object_position": null,
            "order": null,
            "overflow": null,
            "overflow_x": null,
            "overflow_y": null,
            "padding": null,
            "right": null,
            "top": null,
            "visibility": null,
            "width": null
          }
        },
        "50aaa8c9a0834698b88c4d4acebc9aa5": {
          "model_module": "@jupyter-widgets/controls",
          "model_name": "ProgressStyleModel",
          "model_module_version": "1.5.0",
          "state": {
            "_model_module": "@jupyter-widgets/controls",
            "_model_module_version": "1.5.0",
            "_model_name": "ProgressStyleModel",
            "_view_count": null,
            "_view_module": "@jupyter-widgets/base",
            "_view_module_version": "1.2.0",
            "_view_name": "StyleView",
            "bar_color": null,
            "description_width": ""
          }
        }
      }
    }
  },
  "nbformat_minor": 0,
  "nbformat": 4,
  "cells": [
    {
      "cell_type": "code",
      "source": [
        "!pip install torch-xla -f https://storage.googleapis.com/tpu-pytorch/wheels/tpuvm/torch_xla-1.12-cp37-cp37m-linux_x86_64.whl"
      ],
      "metadata": {
        "trusted": true,
        "execution": {
          "iopub.status.busy": "2024-11-16T02:50:27.687152Z",
          "iopub.execute_input": "2024-11-16T02:50:27.687963Z",
          "iopub.status.idle": "2024-11-16T02:50:44.960814Z",
          "shell.execute_reply.started": "2024-11-16T02:50:27.687924Z",
          "shell.execute_reply": "2024-11-16T02:50:44.959658Z"
        },
        "id": "3JXTaFuVC0Wq",
        "outputId": "70675a17-8c80-4f0e-cca6-d823b72096ae",
        "colab": {
          "base_uri": "https://localhost:8080/"
        }
      },
      "outputs": [
        {
          "output_type": "stream",
          "name": "stdout",
          "text": [
            "Looking in links: https://storage.googleapis.com/tpu-pytorch/wheels/tpuvm/torch_xla-1.12-cp37-cp37m-linux_x86_64.whl\n",
            "Collecting torch-xla\n",
            "  Downloading torch_xla-2.5.1-cp310-cp310-manylinux_2_28_x86_64.whl.metadata (17 kB)\n",
            "Requirement already satisfied: absl-py>=1.0.0 in /usr/local/lib/python3.10/dist-packages (from torch-xla) (1.4.0)\n",
            "Requirement already satisfied: numpy in /usr/local/lib/python3.10/dist-packages (from torch-xla) (1.26.4)\n",
            "Requirement already satisfied: pyyaml in /usr/local/lib/python3.10/dist-packages (from torch-xla) (6.0.2)\n",
            "Requirement already satisfied: requests in /usr/local/lib/python3.10/dist-packages (from torch-xla) (2.32.3)\n",
            "Requirement already satisfied: charset-normalizer<4,>=2 in /usr/local/lib/python3.10/dist-packages (from requests->torch-xla) (3.4.0)\n",
            "Requirement already satisfied: idna<4,>=2.5 in /usr/local/lib/python3.10/dist-packages (from requests->torch-xla) (3.10)\n",
            "Requirement already satisfied: urllib3<3,>=1.21.1 in /usr/local/lib/python3.10/dist-packages (from requests->torch-xla) (2.2.3)\n",
            "Requirement already satisfied: certifi>=2017.4.17 in /usr/local/lib/python3.10/dist-packages (from requests->torch-xla) (2024.8.30)\n",
            "Downloading torch_xla-2.5.1-cp310-cp310-manylinux_2_28_x86_64.whl (90.6 MB)\n",
            "\u001b[2K   \u001b[90m━━━━━━━━━━━━━━━━━━━━━━━━━━━━━━━━━━━━━━━━\u001b[0m \u001b[32m90.6/90.6 MB\u001b[0m \u001b[31m8.2 MB/s\u001b[0m eta \u001b[36m0:00:00\u001b[0m\n",
            "\u001b[?25hInstalling collected packages: torch-xla\n",
            "Successfully installed torch-xla-2.5.1\n"
          ]
        }
      ],
      "execution_count": null
    },
    {
      "cell_type": "code",
      "source": [
        "!pip install torch transformers pandas scikit-learn"
      ],
      "metadata": {
        "trusted": true,
        "execution": {
          "iopub.status.busy": "2024-11-30T04:28:55.007733Z",
          "iopub.execute_input": "2024-11-30T04:28:55.008456Z",
          "iopub.status.idle": "2024-11-30T04:29:03.488115Z",
          "shell.execute_reply.started": "2024-11-30T04:28:55.008419Z",
          "shell.execute_reply": "2024-11-30T04:29:03.486909Z"
        },
        "colab": {
          "base_uri": "https://localhost:8080/"
        },
        "id": "VcfOYU_AC0Wu",
        "outputId": "b5bb565e-4345-4ca4-d891-3ab7123674a4"
      },
      "outputs": [
        {
          "output_type": "stream",
          "name": "stdout",
          "text": [
            "Requirement already satisfied: torch in /usr/local/lib/python3.10/dist-packages (2.5.1+cu121)\n",
            "Requirement already satisfied: transformers in /usr/local/lib/python3.10/dist-packages (4.46.2)\n",
            "Requirement already satisfied: pandas in /usr/local/lib/python3.10/dist-packages (2.2.2)\n",
            "Requirement already satisfied: scikit-learn in /usr/local/lib/python3.10/dist-packages (1.5.2)\n",
            "Requirement already satisfied: filelock in /usr/local/lib/python3.10/dist-packages (from torch) (3.16.1)\n",
            "Requirement already satisfied: typing-extensions>=4.8.0 in /usr/local/lib/python3.10/dist-packages (from torch) (4.12.2)\n",
            "Requirement already satisfied: networkx in /usr/local/lib/python3.10/dist-packages (from torch) (3.4.2)\n",
            "Requirement already satisfied: jinja2 in /usr/local/lib/python3.10/dist-packages (from torch) (3.1.4)\n",
            "Requirement already satisfied: fsspec in /usr/local/lib/python3.10/dist-packages (from torch) (2024.10.0)\n",
            "Requirement already satisfied: sympy==1.13.1 in /usr/local/lib/python3.10/dist-packages (from torch) (1.13.1)\n",
            "Requirement already satisfied: mpmath<1.4,>=1.1.0 in /usr/local/lib/python3.10/dist-packages (from sympy==1.13.1->torch) (1.3.0)\n",
            "Requirement already satisfied: huggingface-hub<1.0,>=0.23.2 in /usr/local/lib/python3.10/dist-packages (from transformers) (0.26.2)\n",
            "Requirement already satisfied: numpy>=1.17 in /usr/local/lib/python3.10/dist-packages (from transformers) (1.26.4)\n",
            "Requirement already satisfied: packaging>=20.0 in /usr/local/lib/python3.10/dist-packages (from transformers) (24.2)\n",
            "Requirement already satisfied: pyyaml>=5.1 in /usr/local/lib/python3.10/dist-packages (from transformers) (6.0.2)\n",
            "Requirement already satisfied: regex!=2019.12.17 in /usr/local/lib/python3.10/dist-packages (from transformers) (2024.9.11)\n",
            "Requirement already satisfied: requests in /usr/local/lib/python3.10/dist-packages (from transformers) (2.32.3)\n",
            "Requirement already satisfied: safetensors>=0.4.1 in /usr/local/lib/python3.10/dist-packages (from transformers) (0.4.5)\n",
            "Requirement already satisfied: tokenizers<0.21,>=0.20 in /usr/local/lib/python3.10/dist-packages (from transformers) (0.20.3)\n",
            "Requirement already satisfied: tqdm>=4.27 in /usr/local/lib/python3.10/dist-packages (from transformers) (4.66.6)\n",
            "Requirement already satisfied: python-dateutil>=2.8.2 in /usr/local/lib/python3.10/dist-packages (from pandas) (2.8.2)\n",
            "Requirement already satisfied: pytz>=2020.1 in /usr/local/lib/python3.10/dist-packages (from pandas) (2024.2)\n",
            "Requirement already satisfied: tzdata>=2022.7 in /usr/local/lib/python3.10/dist-packages (from pandas) (2024.2)\n",
            "Requirement already satisfied: scipy>=1.6.0 in /usr/local/lib/python3.10/dist-packages (from scikit-learn) (1.13.1)\n",
            "Requirement already satisfied: joblib>=1.2.0 in /usr/local/lib/python3.10/dist-packages (from scikit-learn) (1.4.2)\n",
            "Requirement already satisfied: threadpoolctl>=3.1.0 in /usr/local/lib/python3.10/dist-packages (from scikit-learn) (3.5.0)\n",
            "Requirement already satisfied: six>=1.5 in /usr/local/lib/python3.10/dist-packages (from python-dateutil>=2.8.2->pandas) (1.16.0)\n",
            "Requirement already satisfied: MarkupSafe>=2.0 in /usr/local/lib/python3.10/dist-packages (from jinja2->torch) (3.0.2)\n",
            "Requirement already satisfied: charset-normalizer<4,>=2 in /usr/local/lib/python3.10/dist-packages (from requests->transformers) (3.4.0)\n",
            "Requirement already satisfied: idna<4,>=2.5 in /usr/local/lib/python3.10/dist-packages (from requests->transformers) (3.10)\n",
            "Requirement already satisfied: urllib3<3,>=1.21.1 in /usr/local/lib/python3.10/dist-packages (from requests->transformers) (2.2.3)\n",
            "Requirement already satisfied: certifi>=2017.4.17 in /usr/local/lib/python3.10/dist-packages (from requests->transformers) (2024.8.30)\n"
          ]
        }
      ],
      "execution_count": null
    },
    {
      "cell_type": "code",
      "source": [
        "from google.colab import drive\n",
        "drive.mount('/content/drive')"
      ],
      "metadata": {
        "colab": {
          "base_uri": "https://localhost:8080/"
        },
        "id": "ybddd_a9DVvZ",
        "outputId": "fee9f464-02f8-4f32-fdc3-0fdec3d9e91e"
      },
      "outputs": [
        {
          "output_type": "stream",
          "name": "stdout",
          "text": [
            "Mounted at /content/drive\n"
          ]
        }
      ],
      "execution_count": null
    },
    {
      "cell_type": "code",
      "source": [
        "import pandas as pd"
      ],
      "metadata": {
        "trusted": true,
        "execution": {
          "iopub.status.busy": "2024-11-16T02:50:56.976654Z",
          "iopub.execute_input": "2024-11-16T02:50:56.977010Z",
          "iopub.status.idle": "2024-11-16T02:50:57.369899Z",
          "shell.execute_reply.started": "2024-11-16T02:50:56.976970Z",
          "shell.execute_reply": "2024-11-16T02:50:57.368938Z"
        },
        "id": "waFFvYQsC0Wv"
      },
      "outputs": [],
      "execution_count": null
    },
    {
      "cell_type": "code",
      "source": [
        "sinhala_fake1 = pd.read_csv('/content/drive/MyDrive/sinhala/sinhala_fake.csv')\n",
        "sinhala_fake2 = pd.read_excel('/content/drive/MyDrive/sinhala/sinhala_fake_2.xlsx')\n",
        "sinhala_real = pd.read_excel('/content/drive/MyDrive/sinhala/sinhala_real.xlsx')"
      ],
      "metadata": {
        "trusted": true,
        "execution": {
          "iopub.status.busy": "2024-11-16T02:51:02.734690Z",
          "iopub.execute_input": "2024-11-16T02:51:02.735381Z",
          "iopub.status.idle": "2024-11-16T02:51:04.360287Z",
          "shell.execute_reply.started": "2024-11-16T02:51:02.735324Z",
          "shell.execute_reply": "2024-11-16T02:51:04.359227Z"
        },
        "id": "C-WecDopC0Wv"
      },
      "outputs": [],
      "execution_count": null
    },
    {
      "cell_type": "code",
      "source": [
        "sinhala_fake = pd.concat([sinhala_fake1.drop('title', axis=1), sinhala_fake2.rename(columns={'title_sinhala': 'text'})], axis=0).reset_index(drop=True)"
      ],
      "metadata": {
        "trusted": true,
        "execution": {
          "iopub.status.busy": "2024-11-16T02:51:04.362543Z",
          "iopub.execute_input": "2024-11-16T02:51:04.363081Z",
          "iopub.status.idle": "2024-11-16T02:51:04.376786Z",
          "shell.execute_reply.started": "2024-11-16T02:51:04.363033Z",
          "shell.execute_reply": "2024-11-16T02:51:04.375689Z"
        },
        "id": "WJ0luRHkC0Ww"
      },
      "outputs": [],
      "execution_count": null
    },
    {
      "cell_type": "code",
      "source": [
        "sinhala_real.drop(['id','news_url','title'], axis=1, inplace=True)\n",
        "sinhala_real.rename(columns={'title_sinhala': 'text'}, inplace=True)"
      ],
      "metadata": {
        "trusted": true,
        "execution": {
          "iopub.status.busy": "2024-11-16T02:51:06.218863Z",
          "iopub.execute_input": "2024-11-16T02:51:06.219721Z",
          "iopub.status.idle": "2024-11-16T02:51:06.226089Z",
          "shell.execute_reply.started": "2024-11-16T02:51:06.219677Z",
          "shell.execute_reply": "2024-11-16T02:51:06.225061Z"
        },
        "id": "kU1VY8W-C0Ww"
      },
      "outputs": [],
      "execution_count": null
    },
    {
      "cell_type": "code",
      "source": [
        "sinhala_fake['label'] = 1\n",
        "sinhala_real['label'] = 0"
      ],
      "metadata": {
        "trusted": true,
        "execution": {
          "iopub.status.busy": "2024-11-16T02:51:07.174336Z",
          "iopub.execute_input": "2024-11-16T02:51:07.175332Z",
          "iopub.status.idle": "2024-11-16T02:51:07.181144Z",
          "shell.execute_reply.started": "2024-11-16T02:51:07.175291Z",
          "shell.execute_reply": "2024-11-16T02:51:07.180196Z"
        },
        "id": "oWldwDNcC0Wx"
      },
      "outputs": [],
      "execution_count": null
    },
    {
      "cell_type": "code",
      "source": [
        "sinhala_news_df = pd.concat([sinhala_fake, sinhala_real], axis=0).reset_index(drop=True)"
      ],
      "metadata": {
        "trusted": true,
        "execution": {
          "iopub.status.busy": "2024-11-16T02:51:07.646708Z",
          "iopub.execute_input": "2024-11-16T02:51:07.647067Z",
          "iopub.status.idle": "2024-11-16T02:51:07.653573Z",
          "shell.execute_reply.started": "2024-11-16T02:51:07.647033Z",
          "shell.execute_reply": "2024-11-16T02:51:07.652526Z"
        },
        "id": "3Zv52E_dC0Wx"
      },
      "outputs": [],
      "execution_count": null
    },
    {
      "cell_type": "code",
      "source": [
        "sinhala_news_df.head(5)"
      ],
      "metadata": {
        "trusted": true,
        "execution": {
          "iopub.status.busy": "2024-11-16T02:51:08.862256Z",
          "iopub.execute_input": "2024-11-16T02:51:08.862903Z",
          "iopub.status.idle": "2024-11-16T02:51:08.878849Z",
          "shell.execute_reply.started": "2024-11-16T02:51:08.862864Z",
          "shell.execute_reply": "2024-11-16T02:51:08.877796Z"
        },
        "colab": {
          "base_uri": "https://localhost:8080/",
          "height": 206
        },
        "id": "Wa5m2nVXC0Wx",
        "outputId": "4b2ec4c3-b966-469b-a87d-7e5af9586790"
      },
      "outputs": [
        {
          "output_type": "execute_result",
          "data": {
            "text/plain": [
              "                                                text  label",
              "0    Miley Cyrus සහ Liam Hemsworth රහසේ විවාහ වුණාද?      1",
              "1  පැරිස් ජැක්සන් සහ කාරා ඩෙලිවින්ග්න් ගැලපෙන ඇඳු...      1",
              "2  ඩොනල්ඩ් ට්‍රම්ප්ට විරෝධය පළ කරමින් ප්‍රසිද්ධ ප...      1",
              "3  සින්ඩි ක්‍රෝෆර්ඩ්ගේ දියණිය Kaia Gerber හැරී ස්...      1",
              "4  2018 ඔස්කාර් නාමයෝජනා සම්පූර්ණ ලැයිස්තුව - විව...      1"
            ],
            "text/html": [
              "",
              "  <div id=\"df-5346c64e-add3-4240-829e-ac6dcd3bf459\" class=\"colab-df-container\">",
              "    <div>",
              "<style scoped>",
              "    .dataframe tbody tr th:only-of-type {",
              "        vertical-align: middle;",
              "    }",
              "",
              "    .dataframe tbody tr th {",
              "        vertical-align: top;",
              "    }",
              "",
              "    .dataframe thead th {",
              "        text-align: right;",
              "    }",
              "</style>",
              "<table border=\"1\" class=\"dataframe\">",
              "  <thead>",
              "    <tr style=\"text-align: right;\">",
              "      <th></th>",
              "      <th>text</th>",
              "      <th>label</th>",
              "    </tr>",
              "  </thead>",
              "  <tbody>",
              "    <tr>",
              "      <th>0</th>",
              "      <td>Miley Cyrus සහ Liam Hemsworth රහසේ විවාහ වුණාද?</td>",
              "      <td>1</td>",
              "    </tr>",
              "    <tr>",
              "      <th>1</th>",
              "      <td>පැරිස් ජැක්සන් සහ කාරා ඩෙලිවින්ග්න් ගැලපෙන ඇඳු...</td>",
              "      <td>1</td>",
              "    </tr>",
              "    <tr>",
              "      <th>2</th>",
              "      <td>ඩොනල්ඩ් ට්‍රම්ප්ට විරෝධය පළ කරමින් ප්‍රසිද්ධ ප...</td>",
              "      <td>1</td>",
              "    </tr>",
              "    <tr>",
              "      <th>3</th>",
              "      <td>සින්ඩි ක්‍රෝෆර්ඩ්ගේ දියණිය Kaia Gerber හැරී ස්...</td>",
              "      <td>1</td>",
              "    </tr>",
              "    <tr>",
              "      <th>4</th>",
              "      <td>2018 ඔස්කාර් නාමයෝජනා සම්පූර්ණ ලැයිස්තුව - විව...</td>",
              "      <td>1</td>",
              "    </tr>",
              "  </tbody>",
              "</table>",
              "</div>",
              "    <div class=\"colab-df-buttons\">",
              "",
              "  <div class=\"colab-df-container\">",
              "    <button class=\"colab-df-convert\" onclick=\"convertToInteractive('df-5346c64e-add3-4240-829e-ac6dcd3bf459')\"",
              "            title=\"Convert this dataframe to an interactive table.\"",
              "            style=\"display:none;\">",
              "",
              "  <svg xmlns=\"http://www.w3.org/2000/svg\" height=\"24px\" viewBox=\"0 -960 960 960\">",
              "    <path d=\"M120-120v-720h720v720H120Zm60-500h600v-160H180v160Zm220 220h160v-160H400v160Zm0 220h160v-160H400v160ZM180-400h160v-160H180v160Zm440 0h160v-160H620v160ZM180-180h160v-160H180v160Zm440 0h160v-160H620v160Z\"/>",
              "  </svg>",
              "    </button>",
              "",
              "  <style>",
              "    .colab-df-container {",
              "      display:flex;",
              "      gap: 12px;",
              "    }",
              "",
              "    .colab-df-convert {",
              "      background-color: #E8F0FE;",
              "      border: none;",
              "      border-radius: 50%;",
              "      cursor: pointer;",
              "      display: none;",
              "      fill: #1967D2;",
              "      height: 32px;",
              "      padding: 0 0 0 0;",
              "      width: 32px;",
              "    }",
              "",
              "    .colab-df-convert:hover {",
              "      background-color: #E2EBFA;",
              "      box-shadow: 0px 1px 2px rgba(60, 64, 67, 0.3), 0px 1px 3px 1px rgba(60, 64, 67, 0.15);",
              "      fill: #174EA6;",
              "    }",
              "",
              "    .colab-df-buttons div {",
              "      margin-bottom: 4px;",
              "    }",
              "",
              "    [theme=dark] .colab-df-convert {",
              "      background-color: #3B4455;",
              "      fill: #D2E3FC;",
              "    }",
              "",
              "    [theme=dark] .colab-df-convert:hover {",
              "      background-color: #434B5C;",
              "      box-shadow: 0px 1px 3px 1px rgba(0, 0, 0, 0.15);",
              "      filter: drop-shadow(0px 1px 2px rgba(0, 0, 0, 0.3));",
              "      fill: #FFFFFF;",
              "    }",
              "  </style>",
              "",
              "    <script>",
              "      const buttonEl =",
              "        document.querySelector('#df-5346c64e-add3-4240-829e-ac6dcd3bf459 button.colab-df-convert');",
              "      buttonEl.style.display =",
              "        google.colab.kernel.accessAllowed ? 'block' : 'none';",
              "",
              "      async function convertToInteractive(key) {",
              "        const element = document.querySelector('#df-5346c64e-add3-4240-829e-ac6dcd3bf459');",
              "        const dataTable =",
              "          await google.colab.kernel.invokeFunction('convertToInteractive',",
              "                                                    [key], {});",
              "        if (!dataTable) return;",
              "",
              "        const docLinkHtml = 'Like what you see? Visit the ' +",
              "          '<a target=\"_blank\" href=https://colab.research.google.com/notebooks/data_table.ipynb>data table notebook</a>'",
              "          + ' to learn more about interactive tables.';",
              "        element.innerHTML = '';",
              "        dataTable['output_type'] = 'display_data';",
              "        await google.colab.output.renderOutput(dataTable, element);",
              "        const docLink = document.createElement('div');",
              "        docLink.innerHTML = docLinkHtml;",
              "        element.appendChild(docLink);",
              "      }",
              "    </script>",
              "  </div>",
              "",
              "",
              "<div id=\"df-e0383b15-8d67-4443-8d1d-ca525068909d\">",
              "  <button class=\"colab-df-quickchart\" onclick=\"quickchart('df-e0383b15-8d67-4443-8d1d-ca525068909d')\"",
              "            title=\"Suggest charts\"",
              "            style=\"display:none;\">",
              "",
              "<svg xmlns=\"http://www.w3.org/2000/svg\" height=\"24px\"viewBox=\"0 0 24 24\"",
              "     width=\"24px\">",
              "    <g>",
              "        <path d=\"M19 3H5c-1.1 0-2 .9-2 2v14c0 1.1.9 2 2 2h14c1.1 0 2-.9 2-2V5c0-1.1-.9-2-2-2zM9 17H7v-7h2v7zm4 0h-2V7h2v10zm4 0h-2v-4h2v4z\"/>",
              "    </g>",
              "</svg>",
              "  </button>",
              "",
              "<style>",
              "  .colab-df-quickchart {",
              "      --bg-color: #E8F0FE;",
              "      --fill-color: #1967D2;",
              "      --hover-bg-color: #E2EBFA;",
              "      --hover-fill-color: #174EA6;",
              "      --disabled-fill-color: #AAA;",
              "      --disabled-bg-color: #DDD;",
              "  }",
              "",
              "  [theme=dark] .colab-df-quickchart {",
              "      --bg-color: #3B4455;",
              "      --fill-color: #D2E3FC;",
              "      --hover-bg-color: #434B5C;",
              "      --hover-fill-color: #FFFFFF;",
              "      --disabled-bg-color: #3B4455;",
              "      --disabled-fill-color: #666;",
              "  }",
              "",
              "  .colab-df-quickchart {",
              "    background-color: var(--bg-color);",
              "    border: none;",
              "    border-radius: 50%;",
              "    cursor: pointer;",
              "    display: none;",
              "    fill: var(--fill-color);",
              "    height: 32px;",
              "    padding: 0;",
              "    width: 32px;",
              "  }",
              "",
              "  .colab-df-quickchart:hover {",
              "    background-color: var(--hover-bg-color);",
              "    box-shadow: 0 1px 2px rgba(60, 64, 67, 0.3), 0 1px 3px 1px rgba(60, 64, 67, 0.15);",
              "    fill: var(--button-hover-fill-color);",
              "  }",
              "",
              "  .colab-df-quickchart-complete:disabled,",
              "  .colab-df-quickchart-complete:disabled:hover {",
              "    background-color: var(--disabled-bg-color);",
              "    fill: var(--disabled-fill-color);",
              "    box-shadow: none;",
              "  }",
              "",
              "  .colab-df-spinner {",
              "    border: 2px solid var(--fill-color);",
              "    border-color: transparent;",
              "    border-bottom-color: var(--fill-color);",
              "    animation:",
              "      spin 1s steps(1) infinite;",
              "  }",
              "",
              "  @keyframes spin {",
              "    0% {",
              "      border-color: transparent;",
              "      border-bottom-color: var(--fill-color);",
              "      border-left-color: var(--fill-color);",
              "    }",
              "    20% {",
              "      border-color: transparent;",
              "      border-left-color: var(--fill-color);",
              "      border-top-color: var(--fill-color);",
              "    }",
              "    30% {",
              "      border-color: transparent;",
              "      border-left-color: var(--fill-color);",
              "      border-top-color: var(--fill-color);",
              "      border-right-color: var(--fill-color);",
              "    }",
              "    40% {",
              "      border-color: transparent;",
              "      border-right-color: var(--fill-color);",
              "      border-top-color: var(--fill-color);",
              "    }",
              "    60% {",
              "      border-color: transparent;",
              "      border-right-color: var(--fill-color);",
              "    }",
              "    80% {",
              "      border-color: transparent;",
              "      border-right-color: var(--fill-color);",
              "      border-bottom-color: var(--fill-color);",
              "    }",
              "    90% {",
              "      border-color: transparent;",
              "      border-bottom-color: var(--fill-color);",
              "    }",
              "  }",
              "</style>",
              "",
              "  <script>",
              "    async function quickchart(key) {",
              "      const quickchartButtonEl =",
              "        document.querySelector('#' + key + ' button');",
              "      quickchartButtonEl.disabled = true;  // To prevent multiple clicks.",
              "      quickchartButtonEl.classList.add('colab-df-spinner');",
              "      try {",
              "        const charts = await google.colab.kernel.invokeFunction(",
              "            'suggestCharts', [key], {});",
              "      } catch (error) {",
              "        console.error('Error during call to suggestCharts:', error);",
              "      }",
              "      quickchartButtonEl.classList.remove('colab-df-spinner');",
              "      quickchartButtonEl.classList.add('colab-df-quickchart-complete');",
              "    }",
              "    (() => {",
              "      let quickchartButtonEl =",
              "        document.querySelector('#df-e0383b15-8d67-4443-8d1d-ca525068909d button');",
              "      quickchartButtonEl.style.display =",
              "        google.colab.kernel.accessAllowed ? 'block' : 'none';",
              "    })();",
              "  </script>",
              "</div>",
              "",
              "    </div>",
              "  </div>"
            ],
            "application/vnd.google.colaboratory.intrinsic+json": {
              "type": "dataframe",
              "variable_name": "sinhala_news_df",
              "summary": "{  \"name\": \"sinhala_news_df\",  \"rows\": 11330,  \"fields\": [    {      \"column\": \"text\",      \"properties\": {        \"dtype\": \"string\",        \"num_unique_values\": 10726,        \"samples\": [          \"Justin Theroux \\u0d9c\\u0dda \\u0db8\\u0dd9\\u0db8 \\u0db4\\u0dd2\\u0db1\\u0dca\\u0dad\\u0dd6\\u0dbb\\u0dba \\\"\\u0dc3\\u0db8\\u0dd3\\u0db4 \\u0db8\\u0dd2\\u0dad\\u0dd4\\u0dbb\\u0dd2\\u0dba\\u0d9a\\u0dca\\\" Naomi Watts \\\"upset\\\" \\u0db6\\u0dd2\\u0dbb\\u0dd2\\u0db3 Jennifer Aniston \\u0dc0\\u0dd9\\u0dad \\u0dad\\u0dd4\\u0dbb\\u0dd4\\u0dc5\\u0dd4 \\u0dc0\\u0dd3\",          \"\\u0db6\\u0dca\\u200d\\u0dbb\\u0dd0\\u0da9\\u0dca\\u0dbd\\u0dd2 \\u0d9a\\u0dd6\\u0db4\\u0dbb\\u0dca \\u0dc0\\u0dd0\\u0db1\\u0dd2 A-Listers \\u0dc3\\u0dca\\u0dc0\\u0dba\\u0d82 \\u0dc3\\u0db8\\u0dca \\u0db4\\u0daf\\u0db8\\u0dca \\u0d9a\\u0dbb\\u0db1\\u0dc0\\u0dcf\\u0daf?\",          \"Ashley Benson NYC \\u0dc4\\u0dd2 \\u0db8\\u0dd2\\u0dad\\u0dd4\\u0dbb\\u0dcf Kristen Stewart \\u0dc3\\u0db8\\u0d9f \\u0d87\\u0dc0\\u0dd2\\u0daf\\u0dd3\\u0db8\\u0da7 \\u0db4\\u0dd2\\u0da7\\u0dad\\u0dca \\u0dc0\\u0dda\"        ],        \"semantic_type\": \"\",        \"description\": \"\"      }    },    {      \"column\": \"label\",      \"properties\": {        \"dtype\": \"number\",        \"std\": 0,        \"min\": 0,        \"max\": 1,        \"num_unique_values\": 2,        \"samples\": [          0,          1        ],        \"semantic_type\": \"\",        \"description\": \"\"      }    }  ]}"
            }
          },
          "metadata": {},
          "execution_count": 9
        }
      ],
      "execution_count": null
    },
    {
      "cell_type": "code",
      "source": [
        "# Assuming your dataset is in a DataFrame named 'train_data' and the label column is named 'label'\n",
        "label_counts = sinhala_news_df['label'].value_counts()\n",
        "print(\"Class distribution in training data:\")\n",
        "print(label_counts)"
      ],
      "metadata": {
        "trusted": true,
        "execution": {
          "iopub.status.busy": "2024-11-16T02:51:12.366644Z",
          "iopub.execute_input": "2024-11-16T02:51:12.367302Z",
          "iopub.status.idle": "2024-11-16T02:51:12.381716Z",
          "shell.execute_reply.started": "2024-11-16T02:51:12.367259Z",
          "shell.execute_reply": "2024-11-16T02:51:12.380728Z"
        },
        "colab": {
          "base_uri": "https://localhost:8080/"
        },
        "id": "Dbi7kFXeC0Wy",
        "outputId": "1066e983-59f2-4f36-e5ba-18021916a9f2"
      },
      "outputs": [
        {
          "output_type": "stream",
          "name": "stdout",
          "text": [
            "Class distribution in training data:",
            "label",
            "0    5999",
            "1    5331",
            "Name: count, dtype: int64"
          ]
        }
      ],
      "execution_count": null
    },
    {
      "cell_type": "code",
      "source": [
        "import pandas as pd\n",
        "import re\n",
        "\n",
        "# Define the cleaning function\n",
        "def clean_text(text):\n",
        "    if not isinstance(text, str):  # Check if the value is not a string\n",
        "        return \"\"\n",
        "    text = re.sub(r\"http\\S+\", \"\", text)  # Remove URLs\n",
        "    text = re.sub(r\"[^අ-෴a-zA-Z\\s]\", \"\", text)  # Keep Sinhala and English letters\n",
        "    text = re.sub(r\"\\s+\", \" \", text).strip()  # Remove extra spaces\n",
        "    return text\n",
        "\n",
        "# Apply the cleaning function safely\n",
        "sinhala_news_df['text'] = sinhala_news_df['text'].fillna(\"\").apply(clean_text)"
      ],
      "metadata": {
        "trusted": true,
        "execution": {
          "iopub.status.busy": "2024-11-16T02:51:14.298696Z",
          "iopub.execute_input": "2024-11-16T02:51:14.299120Z",
          "iopub.status.idle": "2024-11-16T02:51:14.484103Z",
          "shell.execute_reply.started": "2024-11-16T02:51:14.299083Z",
          "shell.execute_reply": "2024-11-16T02:51:14.483252Z"
        },
        "id": "eNxj02eVC0Wy"
      },
      "outputs": [],
      "execution_count": null
    },
    {
      "cell_type": "code",
      "source": [
        "sinhala_news_df.head(5)"
      ],
      "metadata": {
        "trusted": true,
        "execution": {
          "iopub.status.busy": "2024-11-16T02:51:16.131983Z",
          "iopub.execute_input": "2024-11-16T02:51:16.133289Z",
          "iopub.status.idle": "2024-11-16T02:51:16.143245Z",
          "shell.execute_reply.started": "2024-11-16T02:51:16.133232Z",
          "shell.execute_reply": "2024-11-16T02:51:16.142107Z"
        },
        "colab": {
          "base_uri": "https://localhost:8080/",
          "height": 206
        },
        "id": "bo_pWKWMC0Wz",
        "outputId": "1ac0405a-2888-4c2f-e615-58b3eef65350"
      },
      "outputs": [
        {
          "output_type": "execute_result",
          "data": {
            "text/plain": [
              "                                                text  label",
              "0     Miley Cyrus සහ Liam Hemsworth රහසේ විවාහ වුණාද      1",
              "1  පැරිස් ජැක්සන් සහ කාරා ඩෙලිවින්ග්න් ගැලපෙන ඇඳු...      1",
              "2  ඩොනල්ඩ් ට්රම්ප්ට විරෝධය පළ කරමින් ප්රසිද්ධ පුද...      1",
              "3  සින්ඩි ක්රෝෆර්ඩ්ගේ දියණිය Kaia Gerber හැරී ස්ට...      1",
              "4      ඔස්කාර් නාමයෝජනා සම්පූර්ණ ලැයිස්තුව විවිධත්වය      1"
            ],
            "text/html": [
              "",
              "  <div id=\"df-20bd13fe-9030-4500-b012-1797cc0f30cc\" class=\"colab-df-container\">",
              "    <div>",
              "<style scoped>",
              "    .dataframe tbody tr th:only-of-type {",
              "        vertical-align: middle;",
              "    }",
              "",
              "    .dataframe tbody tr th {",
              "        vertical-align: top;",
              "    }",
              "",
              "    .dataframe thead th {",
              "        text-align: right;",
              "    }",
              "</style>",
              "<table border=\"1\" class=\"dataframe\">",
              "  <thead>",
              "    <tr style=\"text-align: right;\">",
              "      <th></th>",
              "      <th>text</th>",
              "      <th>label</th>",
              "    </tr>",
              "  </thead>",
              "  <tbody>",
              "    <tr>",
              "      <th>0</th>",
              "      <td>Miley Cyrus සහ Liam Hemsworth රහසේ විවාහ වුණාද</td>",
              "      <td>1</td>",
              "    </tr>",
              "    <tr>",
              "      <th>1</th>",
              "      <td>පැරිස් ජැක්සන් සහ කාරා ඩෙලිවින්ග්න් ගැලපෙන ඇඳු...</td>",
              "      <td>1</td>",
              "    </tr>",
              "    <tr>",
              "      <th>2</th>",
              "      <td>ඩොනල්ඩ් ට්රම්ප්ට විරෝධය පළ කරමින් ප්රසිද්ධ පුද...</td>",
              "      <td>1</td>",
              "    </tr>",
              "    <tr>",
              "      <th>3</th>",
              "      <td>සින්ඩි ක්රෝෆර්ඩ්ගේ දියණිය Kaia Gerber හැරී ස්ට...</td>",
              "      <td>1</td>",
              "    </tr>",
              "    <tr>",
              "      <th>4</th>",
              "      <td>ඔස්කාර් නාමයෝජනා සම්පූර්ණ ලැයිස්තුව විවිධත්වය</td>",
              "      <td>1</td>",
              "    </tr>",
              "  </tbody>",
              "</table>",
              "</div>",
              "    <div class=\"colab-df-buttons\">",
              "",
              "  <div class=\"colab-df-container\">",
              "    <button class=\"colab-df-convert\" onclick=\"convertToInteractive('df-20bd13fe-9030-4500-b012-1797cc0f30cc')\"",
              "            title=\"Convert this dataframe to an interactive table.\"",
              "            style=\"display:none;\">",
              "",
              "  <svg xmlns=\"http://www.w3.org/2000/svg\" height=\"24px\" viewBox=\"0 -960 960 960\">",
              "    <path d=\"M120-120v-720h720v720H120Zm60-500h600v-160H180v160Zm220 220h160v-160H400v160Zm0 220h160v-160H400v160ZM180-400h160v-160H180v160Zm440 0h160v-160H620v160ZM180-180h160v-160H180v160Zm440 0h160v-160H620v160Z\"/>",
              "  </svg>",
              "    </button>",
              "",
              "  <style>",
              "    .colab-df-container {",
              "      display:flex;",
              "      gap: 12px;",
              "    }",
              "",
              "    .colab-df-convert {",
              "      background-color: #E8F0FE;",
              "      border: none;",
              "      border-radius: 50%;",
              "      cursor: pointer;",
              "      display: none;",
              "      fill: #1967D2;",
              "      height: 32px;",
              "      padding: 0 0 0 0;",
              "      width: 32px;",
              "    }",
              "",
              "    .colab-df-convert:hover {",
              "      background-color: #E2EBFA;",
              "      box-shadow: 0px 1px 2px rgba(60, 64, 67, 0.3), 0px 1px 3px 1px rgba(60, 64, 67, 0.15);",
              "      fill: #174EA6;",
              "    }",
              "",
              "    .colab-df-buttons div {",
              "      margin-bottom: 4px;",
              "    }",
              "",
              "    [theme=dark] .colab-df-convert {",
              "      background-color: #3B4455;",
              "      fill: #D2E3FC;",
              "    }",
              "",
              "    [theme=dark] .colab-df-convert:hover {",
              "      background-color: #434B5C;",
              "      box-shadow: 0px 1px 3px 1px rgba(0, 0, 0, 0.15);",
              "      filter: drop-shadow(0px 1px 2px rgba(0, 0, 0, 0.3));",
              "      fill: #FFFFFF;",
              "    }",
              "  </style>",
              "",
              "    <script>",
              "      const buttonEl =",
              "        document.querySelector('#df-20bd13fe-9030-4500-b012-1797cc0f30cc button.colab-df-convert');",
              "      buttonEl.style.display =",
              "        google.colab.kernel.accessAllowed ? 'block' : 'none';",
              "",
              "      async function convertToInteractive(key) {",
              "        const element = document.querySelector('#df-20bd13fe-9030-4500-b012-1797cc0f30cc');",
              "        const dataTable =",
              "          await google.colab.kernel.invokeFunction('convertToInteractive',",
              "                                                    [key], {});",
              "        if (!dataTable) return;",
              "",
              "        const docLinkHtml = 'Like what you see? Visit the ' +",
              "          '<a target=\"_blank\" href=https://colab.research.google.com/notebooks/data_table.ipynb>data table notebook</a>'",
              "          + ' to learn more about interactive tables.';",
              "        element.innerHTML = '';",
              "        dataTable['output_type'] = 'display_data';",
              "        await google.colab.output.renderOutput(dataTable, element);",
              "        const docLink = document.createElement('div');",
              "        docLink.innerHTML = docLinkHtml;",
              "        element.appendChild(docLink);",
              "      }",
              "    </script>",
              "  </div>",
              "",
              "",
              "<div id=\"df-e5b3c994-0ac0-4866-bbea-7d11c254871a\">",
              "  <button class=\"colab-df-quickchart\" onclick=\"quickchart('df-e5b3c994-0ac0-4866-bbea-7d11c254871a')\"",
              "            title=\"Suggest charts\"",
              "            style=\"display:none;\">",
              "",
              "<svg xmlns=\"http://www.w3.org/2000/svg\" height=\"24px\"viewBox=\"0 0 24 24\"",
              "     width=\"24px\">",
              "    <g>",
              "        <path d=\"M19 3H5c-1.1 0-2 .9-2 2v14c0 1.1.9 2 2 2h14c1.1 0 2-.9 2-2V5c0-1.1-.9-2-2-2zM9 17H7v-7h2v7zm4 0h-2V7h2v10zm4 0h-2v-4h2v4z\"/>",
              "    </g>",
              "</svg>",
              "  </button>",
              "",
              "<style>",
              "  .colab-df-quickchart {",
              "      --bg-color: #E8F0FE;",
              "      --fill-color: #1967D2;",
              "      --hover-bg-color: #E2EBFA;",
              "      --hover-fill-color: #174EA6;",
              "      --disabled-fill-color: #AAA;",
              "      --disabled-bg-color: #DDD;",
              "  }",
              "",
              "  [theme=dark] .colab-df-quickchart {",
              "      --bg-color: #3B4455;",
              "      --fill-color: #D2E3FC;",
              "      --hover-bg-color: #434B5C;",
              "      --hover-fill-color: #FFFFFF;",
              "      --disabled-bg-color: #3B4455;",
              "      --disabled-fill-color: #666;",
              "  }",
              "",
              "  .colab-df-quickchart {",
              "    background-color: var(--bg-color);",
              "    border: none;",
              "    border-radius: 50%;",
              "    cursor: pointer;",
              "    display: none;",
              "    fill: var(--fill-color);",
              "    height: 32px;",
              "    padding: 0;",
              "    width: 32px;",
              "  }",
              "",
              "  .colab-df-quickchart:hover {",
              "    background-color: var(--hover-bg-color);",
              "    box-shadow: 0 1px 2px rgba(60, 64, 67, 0.3), 0 1px 3px 1px rgba(60, 64, 67, 0.15);",
              "    fill: var(--button-hover-fill-color);",
              "  }",
              "",
              "  .colab-df-quickchart-complete:disabled,",
              "  .colab-df-quickchart-complete:disabled:hover {",
              "    background-color: var(--disabled-bg-color);",
              "    fill: var(--disabled-fill-color);",
              "    box-shadow: none;",
              "  }",
              "",
              "  .colab-df-spinner {",
              "    border: 2px solid var(--fill-color);",
              "    border-color: transparent;",
              "    border-bottom-color: var(--fill-color);",
              "    animation:",
              "      spin 1s steps(1) infinite;",
              "  }",
              "",
              "  @keyframes spin {",
              "    0% {",
              "      border-color: transparent;",
              "      border-bottom-color: var(--fill-color);",
              "      border-left-color: var(--fill-color);",
              "    }",
              "    20% {",
              "      border-color: transparent;",
              "      border-left-color: var(--fill-color);",
              "      border-top-color: var(--fill-color);",
              "    }",
              "    30% {",
              "      border-color: transparent;",
              "      border-left-color: var(--fill-color);",
              "      border-top-color: var(--fill-color);",
              "      border-right-color: var(--fill-color);",
              "    }",
              "    40% {",
              "      border-color: transparent;",
              "      border-right-color: var(--fill-color);",
              "      border-top-color: var(--fill-color);",
              "    }",
              "    60% {",
              "      border-color: transparent;",
              "      border-right-color: var(--fill-color);",
              "    }",
              "    80% {",
              "      border-color: transparent;",
              "      border-right-color: var(--fill-color);",
              "      border-bottom-color: var(--fill-color);",
              "    }",
              "    90% {",
              "      border-color: transparent;",
              "      border-bottom-color: var(--fill-color);",
              "    }",
              "  }",
              "</style>",
              "",
              "  <script>",
              "    async function quickchart(key) {",
              "      const quickchartButtonEl =",
              "        document.querySelector('#' + key + ' button');",
              "      quickchartButtonEl.disabled = true;  // To prevent multiple clicks.",
              "      quickchartButtonEl.classList.add('colab-df-spinner');",
              "      try {",
              "        const charts = await google.colab.kernel.invokeFunction(",
              "            'suggestCharts', [key], {});",
              "      } catch (error) {",
              "        console.error('Error during call to suggestCharts:', error);",
              "      }",
              "      quickchartButtonEl.classList.remove('colab-df-spinner');",
              "      quickchartButtonEl.classList.add('colab-df-quickchart-complete');",
              "    }",
              "    (() => {",
              "      let quickchartButtonEl =",
              "        document.querySelector('#df-e5b3c994-0ac0-4866-bbea-7d11c254871a button');",
              "      quickchartButtonEl.style.display =",
              "        google.colab.kernel.accessAllowed ? 'block' : 'none';",
              "    })();",
              "  </script>",
              "</div>",
              "",
              "    </div>",
              "  </div>"
            ],
            "application/vnd.google.colaboratory.intrinsic+json": {
              "type": "dataframe",
              "variable_name": "sinhala_news_df",
              "summary": "{  \"name\": \"sinhala_news_df\",  \"rows\": 11330,  \"fields\": [    {      \"column\": \"text\",      \"properties\": {        \"dtype\": \"string\",        \"num_unique_values\": 10715,        \"samples\": [          \"Jessie James Decker Dishes on TV \\u0dc0\\u0dd9\\u0dad \\u0db1\\u0dd0\\u0dc0\\u0dad \\u0db4\\u0dd0\\u0db8\\u0dd2\\u0dab\\u0dda Eric Jessie \\u0dc4\\u0dd2 \\u0dc0\\u0dd0\\u0db1\\u0dd2 \\u0dc0\\u0dcf\\u0dbb\\u0dba\\u0d9a\\u0dca \\u0dc0\\u0dda\\u0daf\",          \"Heidi \\u0dc3\\u0dc4 Spencer Pratt \\u0d94\\u0dc0\\u0dd4\\u0db1\\u0dca \\u0db8\\u0dd2\\u0dbd\\u0dd2\\u0dba\\u0db1 \\u0d9c\\u0dab\\u0db1\\u0d9a\\u0dca \\u0db1\\u0dcf\\u0dc3\\u0dca\\u0dad\\u0dd2 \\u0d9a\\u0dbb \\u0daf\\u0dd0\\u0db1\\u0dca \\u0d94\\u0dc4\\u0dd4\\u0d9c\\u0dda \\u0daf\\u0dd9\\u0db8\\u0dcf\\u0db4\\u0dd2\\u0dba\\u0db1\\u0dca\\u0d9c\\u0dda \\u0db1\\u0dd2\\u0dc0\\u0dc3\\u0dda \\u0da2\\u0dd3\\u0dc0\\u0dad\\u0dca \\u0dc0\\u0db1 \\u0d86\\u0d9a\\u0dcf\\u0dbb\\u0dba \\u0db4\\u0dd0\\u0dc4\\u0dd0\\u0daf\\u0dd2\\u0dbd\\u0dd2 \\u0d9a\\u0dbb\\u0dba\\u0dd2\",          \"\\u0da9\\u0dd2\\u0da2\\u0dd2\\u0da7\\u0dbd\\u0dca \\u0daf\\u0dd3\\u0dc0\\u0dcf Caitlyn Jenners Secret Cyber Hookups \\u0d87\\u0dad\\u0dd4\\u0dbd\\u0dad\"        ],        \"semantic_type\": \"\",        \"description\": \"\"      }    },    {      \"column\": \"label\",      \"properties\": {        \"dtype\": \"number\",        \"std\": 0,        \"min\": 0,        \"max\": 1,        \"num_unique_values\": 2,        \"samples\": [          0,          1        ],        \"semantic_type\": \"\",        \"description\": \"\"      }    }  ]}"
            }
          },
          "metadata": {},
          "execution_count": 12
        }
      ],
      "execution_count": null
    },
    {
      "cell_type": "code",
      "source": [
        "sinhala_news_df.shape"
      ],
      "metadata": {
        "trusted": true,
        "execution": {
          "iopub.status.busy": "2024-11-16T02:51:17.738523Z",
          "iopub.execute_input": "2024-11-16T02:51:17.739364Z",
          "iopub.status.idle": "2024-11-16T02:51:17.745004Z",
          "shell.execute_reply.started": "2024-11-16T02:51:17.739325Z",
          "shell.execute_reply": "2024-11-16T02:51:17.744117Z"
        },
        "colab": {
          "base_uri": "https://localhost:8080/"
        },
        "id": "nuRuc84pC0Wz",
        "outputId": "fbe217bb-d45f-4a49-db3b-3167fe861d14"
      },
      "outputs": [
        {
          "output_type": "execute_result",
          "data": {
            "text/plain": [
              "(11330, 2)"
            ]
          },
          "metadata": {},
          "execution_count": 13
        }
      ],
      "execution_count": null
    },
    {
      "cell_type": "code",
      "source": [
        "from transformers import AutoTokenizer, AutoModelForMaskedLM\n",
        "\n",
        "# Load SinBERT-large\n",
        "tokenizer = AutoTokenizer.from_pretrained(\"NLPC-UOM/SinBERT-large\")\n",
        "model = AutoModelForMaskedLM.from_pretrained(\"NLPC-UOM/SinBERT-large\")"
      ],
      "metadata": {
        "trusted": true,
        "execution": {
          "iopub.status.busy": "2024-11-16T03:03:35.968834Z",
          "iopub.execute_input": "2024-11-16T03:03:35.969261Z",
          "iopub.status.idle": "2024-11-16T03:03:36.467146Z",
          "shell.execute_reply.started": "2024-11-16T03:03:35.969220Z",
          "shell.execute_reply": "2024-11-16T03:03:36.465620Z"
        },
        "colab": {
          "base_uri": "https://localhost:8080/",
          "height": 269,
          "referenced_widgets": [
            "b33e9df5f20546969193dbd92ac42ec9",
            "1c6f62ce04874c68b0fd2a53d593cbb8",
            "396c0d99e4974989a11cb8201ec22b3b",
            "6ba42bb9f0b141b1aeb6d06624aa9a09",
            "3c9ef5709d744110939b6f6848d5eb9d",
            "c3ec73fdf32145ce8ded019db7b809e1",
            "6c26473d85464ef98a8f9a8749545c5b",
            "a8adaf1fa6a14a6e9434be39a5701f2c",
            "c8ed13cd12084373bb7719a602663170",
            "58ff8e559d8e47239a71e2327b44987d",
            "eb6303798bb24f6eb0f9aa237fac47ba",
            "a925907d388147d69b92fdff19d1a831",
            "792a6a4dafed4955a2615a06c3d56366",
            "b554dcfac4fb4a8caf79de6dc8f16ff6",
            "6a99ae610339403a8a62f8743fd0b380",
            "d8e0de92981a49ba863e5effe5921362",
            "557048de22f841ffa53bc414bf5dd36f",
            "6a6bb7a4c78e47b0a5892f237cf9867e",
            "6e24f48428664126a9013e0d0bd8876d",
            "9df86a58164b46678daed495478eb0c4",
            "7e5a8194962942908135d460be7bbbd7",
            "9b879e25166b44f49358756142be2655",
            "7ef6f4b8c5494200813eaa59fa5b8f5a",
            "d08ff0edaa0f4164ae4a19fbedb614ce",
            "acf14f15af2144c9831a6f86aad9f287",
            "1ded1f51b871463fa4f4036cf48700bc",
            "5b67cd07684448e290f7b60ca76a3f83",
            "1c71635891ee47179e7d0631cf05044c",
            "cf619a1d6a3b4f018f52739b88d52d82",
            "91f7717d78194f9d86d5e5bab0e0902e",
            "a1856f0e16054143b2a100fdac69a9d9",
            "3b4d3180a24947cb8c50685dfdcc73aa",
            "69b009f6f6944d3089caab25510bc96b",
            "392961791156414a94b18316a924bbb5",
            "e95c033cc6d3488b8d3e4aa8ff537dd8",
            "2f1ac87dd97144d49d7fe41bd66ba776",
            "6339cfa72faf4d9ba3a9c1b403498bd9",
            "f0e2349f1cac4be0b7461e693d709952",
            "c6899780fa8046c6a820921a7958462f",
            "66b99bac22944c638237a489ccac46ba",
            "7c2f55d351864f4c900f27fc8f1ea3c4",
            "eaea7b06390a4395a7842f2d3d9f076b",
            "b7eaaa8ff66c4bd7b684a0a5b71f2a72",
            "08e5f3f0dca44ec69d9ba76ffa144030"
          ]
        },
        "id": "3D7POyXDC0Wz",
        "outputId": "368a1f76-ee69-416c-fd38-a8757709b5e2"
      },
      "outputs": [
        {
          "output_type": "stream",
          "name": "stderr",
          "text": [
            "/usr/local/lib/python3.10/dist-packages/huggingface_hub/utils/_auth.py:94: UserWarning: ",
            "The secret `HF_TOKEN` does not exist in your Colab secrets.",
            "To authenticate with the Hugging Face Hub, create a token in your settings tab (https://huggingface.co/settings/tokens), set it as secret in your Google Colab and restart your session.",
            "You will be able to reuse this secret in all of your notebooks.",
            "Please note that authentication is recommended but still optional to access public models or datasets.",
            "  warnings.warn("
          ]
        },
        {
          "output_type": "display_data",
          "data": {
            "text/plain": [
              "config.json:   0%|          | 0.00/722 [00:00<?, ?B/s]"
            ],
            "application/vnd.jupyter.widget-view+json": {
              "version_major": 2,
              "version_minor": 0,
              "model_id": "b33e9df5f20546969193dbd92ac42ec9"
            }
          },
          "metadata": {}
        },
        {
          "output_type": "display_data",
          "data": {
            "text/plain": [
              "vocab.json:   0%|          | 0.00/1.50M [00:00<?, ?B/s]"
            ],
            "application/vnd.jupyter.widget-view+json": {
              "version_major": 2,
              "version_minor": 0,
              "model_id": "a925907d388147d69b92fdff19d1a831"
            }
          },
          "metadata": {}
        },
        {
          "output_type": "display_data",
          "data": {
            "text/plain": [
              "merges.txt:   0%|          | 0.00/1.15M [00:00<?, ?B/s]"
            ],
            "application/vnd.jupyter.widget-view+json": {
              "version_major": 2,
              "version_minor": 0,
              "model_id": "7ef6f4b8c5494200813eaa59fa5b8f5a"
            }
          },
          "metadata": {}
        },
        {
          "output_type": "display_data",
          "data": {
            "text/plain": [
              "pytorch_model.bin:   0%|          | 0.00/504M [00:00<?, ?B/s]"
            ],
            "application/vnd.jupyter.widget-view+json": {
              "version_major": 2,
              "version_minor": 0,
              "model_id": "392961791156414a94b18316a924bbb5"
            }
          },
          "metadata": {}
        }
      ],
      "execution_count": null
    },
    {
      "cell_type": "code",
      "source": [
        "from transformers import AutoModelForSequenceClassification\n",
        "\n",
        "model = AutoModelForSequenceClassification.from_pretrained(\n",
        "    \"NLPC-UOM/SinBERT-large\",\n",
        "    num_labels=2  # Binary classification (FAKE, REAL)\n",
        ")"
      ],
      "metadata": {
        "colab": {
          "base_uri": "https://localhost:8080/"
        },
        "id": "s_bU-x_cQnWO",
        "outputId": "0070bedc-fda1-400d-9f51-7f8f0962b1b0"
      },
      "outputs": [
        {
          "output_type": "stream",
          "name": "stderr",
          "text": [
            "Some weights of RobertaForSequenceClassification were not initialized from the model checkpoint at NLPC-UOM/SinBERT-large and are newly initialized: ['classifier.dense.bias', 'classifier.dense.weight', 'classifier.out_proj.bias', 'classifier.out_proj.weight']",
            "You should probably TRAIN this model on a down-stream task to be able to use it for predictions and inference."
          ]
        }
      ],
      "execution_count": null
    },
    {
      "cell_type": "code",
      "source": [
        "from sklearn.model_selection import train_test_split\n",
        "\n",
        "train_texts, val_texts, train_labels, val_labels = train_test_split(\n",
        "    sinhala_news_df['text'], sinhala_news_df['label'], test_size=0.2, random_state=42\n",
        ")"
      ],
      "metadata": {
        "id": "Djr9Wp1qQ4rJ"
      },
      "outputs": [],
      "execution_count": null
    },
    {
      "cell_type": "code",
      "source": [
        "train_encodings = tokenizer(list(train_texts), truncation=True, padding=True, max_length=512, return_tensors=\"pt\")\n",
        "val_encodings = tokenizer(list(val_texts), truncation=True, padding=True, max_length=512, return_tensors=\"pt\")"
      ],
      "metadata": {
        "id": "iMTaG7q_RMPE"
      },
      "outputs": [],
      "execution_count": null
    },
    {
      "cell_type": "code",
      "source": [
        "import torch\n",
        "\n",
        "class NewsDataset(torch.utils.data.Dataset):\n",
        "    def __init__(self, encodings, labels):\n",
        "        self.encodings = encodings\n",
        "        self.labels = labels\n",
        "\n",
        "    def __len__(self):\n",
        "        return len(self.labels)\n",
        "\n",
        "    def __getitem__(self, idx):\n",
        "        return {\n",
        "            \"input_ids\": self.encodings[\"input_ids\"][idx],\n",
        "            \"attention_mask\": self.encodings[\"attention_mask\"][idx],\n",
        "            \"labels\": torch.tensor(self.labels[idx], dtype=torch.long)\n",
        "        }\n",
        "\n",
        "# Create datasets\n",
        "train_dataset = NewsDataset(train_encodings, train_labels.tolist())\n",
        "val_dataset = NewsDataset(val_encodings, val_labels.tolist())"
      ],
      "metadata": {
        "trusted": true,
        "id": "GbYsdyooC0W0"
      },
      "outputs": [],
      "execution_count": null
    },
    {
      "cell_type": "code",
      "source": [
        "from transformers import Trainer, TrainingArguments\n",
        "\n",
        "training_args = TrainingArguments(\n",
        "    output_dir=\"./results\",\n",
        "    evaluation_strategy=\"epoch\",\n",
        "    learning_rate=2e-5,\n",
        "    per_device_train_batch_size=16,\n",
        "    per_device_eval_batch_size=16,\n",
        "    num_train_epochs=3,\n",
        "    weight_decay=0.01,\n",
        "    logging_dir=\"./logs\",\n",
        "    save_strategy=\"epoch\",\n",
        ")\n",
        "\n",
        "trainer = Trainer(\n",
        "    model=model,\n",
        "    args=training_args,\n",
        "    train_dataset=train_dataset,\n",
        "    eval_dataset=val_dataset,\n",
        ")\n",
        "\n",
        "trainer.train()"
      ],
      "metadata": {
        "colab": {
          "base_uri": "https://localhost:8080/",
          "height": 531,
          "referenced_widgets": [
            "844b5d4726ec495590a5cc7361d49ac4",
            "25ff4b27e086479a9263218d397bc010",
            "5d6e32d5ae2d4438ab055ee43c599656",
            "a79d7e72603242bd965f21606718fd58",
            "dd662b84dacb491283bf77b3868f36ae",
            "d5deda82912f4807bd426855b2023c56",
            "d9400d35e27c48f7a80c7ef30b38d274",
            "50aaa8c9a0834698b88c4d4acebc9aa5"
          ]
        },
        "id": "KBaTTpx6RqAa",
        "outputId": "9dec4c4e-c1f6-4b87-c92c-81b8e497397f"
      },
      "outputs": [
        {
          "output_type": "stream",
          "name": "stderr",
          "text": [
            "/usr/local/lib/python3.10/dist-packages/transformers/training_args.py:1568: FutureWarning: `evaluation_strategy` is deprecated and will be removed in version 4.46 of 🤗 Transformers. Use `eval_strategy` instead",
            "  warnings.warn(",
            "\u001b[34m\u001b[1mwandb\u001b[0m: \u001b[33mWARNING\u001b[0m The `run_name` is currently set to the same value as `TrainingArguments.output_dir`. If this was not intended, please specify a different run name by setting the `TrainingArguments.run_name` parameter.",
            "\u001b[34m\u001b[1mwandb\u001b[0m: Using wandb-core as the SDK backend.  Please refer to https://wandb.me/wandb-core for more information."
          ]
        },
        {
          "output_type": "display_data",
          "data": {
            "text/plain": [
              "<IPython.core.display.Javascript object>"
            ],
            "application/javascript": [
              "",
              "        window._wandbApiKey = new Promise((resolve, reject) => {",
              "            function loadScript(url) {",
              "            return new Promise(function(resolve, reject) {",
              "                let newScript = document.createElement(\"script\");",
              "                newScript.onerror = reject;",
              "                newScript.onload = resolve;",
              "                document.body.appendChild(newScript);",
              "                newScript.src = url;",
              "            });",
              "            }",
              "            loadScript(\"https://cdn.jsdelivr.net/npm/postmate/build/postmate.min.js\").then(() => {",
              "            const iframe = document.createElement('iframe')",
              "            iframe.style.cssText = \"width:0;height:0;border:none\"",
              "            document.body.appendChild(iframe)",
              "            const handshake = new Postmate({",
              "                container: iframe,",
              "                url: 'https://wandb.ai/authorize'",
              "            });",
              "            const timeout = setTimeout(() => reject(\"Couldn't auto authenticate\"), 5000)",
              "            handshake.then(function(child) {",
              "                child.on('authorize', data => {",
              "                    clearTimeout(timeout)",
              "                    resolve(data)",
              "                });",
              "            });",
              "            })",
              "        });",
              "    "
            ]
          },
          "metadata": {}
        },
        {
          "output_type": "stream",
          "name": "stderr",
          "text": [
            "\u001b[34m\u001b[1mwandb\u001b[0m: Logging into wandb.ai. (Learn how to deploy a W&B server locally: https://wandb.me/wandb-server)",
            "\u001b[34m\u001b[1mwandb\u001b[0m: You can find your API key in your browser here: https://wandb.ai/authorize",
            "wandb: Paste an API key from your profile and hit enter, or press ctrl+c to quit:"
          ]
        },
        {
          "name": "stdout",
          "output_type": "stream",
          "text": [
            " ··········"
          ]
        },
        {
          "output_type": "stream",
          "name": "stderr",
          "text": [
            "\u001b[34m\u001b[1mwandb\u001b[0m: Appending key for api.wandb.ai to your netrc file: /root/.netrc"
          ]
        },
        {
          "output_type": "display_data",
          "data": {
            "text/plain": [
              "VBox(children=(Label(value='Waiting for wandb.init()...\\r'), FloatProgress(value=0.011112682111110593, max=1.0…"
            ],
            "application/vnd.jupyter.widget-view+json": {
              "version_major": 2,
              "version_minor": 0,
              "model_id": "844b5d4726ec495590a5cc7361d49ac4"
            }
          },
          "metadata": {}
        },
        {
          "output_type": "display_data",
          "data": {
            "text/plain": [
              "<IPython.core.display.HTML object>"
            ],
            "text/html": [
              "Tracking run with wandb version 0.18.6"
            ]
          },
          "metadata": {}
        },
        {
          "output_type": "display_data",
          "data": {
            "text/plain": [
              "<IPython.core.display.HTML object>"
            ],
            "text/html": [
              "Run data is saved locally in <code>/content/wandb/run-20241116_140253-8b1h2sf5</code>"
            ]
          },
          "metadata": {}
        },
        {
          "output_type": "display_data",
          "data": {
            "text/plain": [
              "<IPython.core.display.HTML object>"
            ],
            "text/html": [
              "Syncing run <strong><a href='https://wandb.ai/achintharanaweera/huggingface/runs/8b1h2sf5' target=\"_blank\">./results</a></strong> to <a href='https://wandb.ai/achintharanaweera/huggingface' target=\"_blank\">Weights & Biases</a> (<a href='https://wandb.me/developer-guide' target=\"_blank\">docs</a>)<br/>"
            ]
          },
          "metadata": {}
        },
        {
          "output_type": "display_data",
          "data": {
            "text/plain": [
              "<IPython.core.display.HTML object>"
            ],
            "text/html": [
              " View project at <a href='https://wandb.ai/achintharanaweera/huggingface' target=\"_blank\">https://wandb.ai/achintharanaweera/huggingface</a>"
            ]
          },
          "metadata": {}
        },
        {
          "output_type": "display_data",
          "data": {
            "text/plain": [
              "<IPython.core.display.HTML object>"
            ],
            "text/html": [
              " View run at <a href='https://wandb.ai/achintharanaweera/huggingface/runs/8b1h2sf5' target=\"_blank\">https://wandb.ai/achintharanaweera/huggingface/runs/8b1h2sf5</a>"
            ]
          },
          "metadata": {}
        },
        {
          "output_type": "display_data",
          "data": {
            "text/plain": [
              "<IPython.core.display.HTML object>"
            ],
            "text/html": [
              "",
              "    <div>",
              "      ",
              "      <progress value='1701' max='1701' style='width:300px; height:20px; vertical-align: middle;'></progress>",
              "      [1701/1701 42:32, Epoch 3/3]",
              "    </div>",
              "    <table border=\"1\" class=\"dataframe\">",
              "  <thead>",
              " <tr style=\"text-align: left;\">",
              "      <th>Epoch</th>",
              "      <th>Training Loss</th>",
              "      <th>Validation Loss</th>",
              "    </tr>",
              "  </thead>",
              "  <tbody>",
              "    <tr>",
              "      <td>1</td>",
              "      <td>0.606000</td>",
              "      <td>0.542932</td>",
              "    </tr>",
              "    <tr>",
              "      <td>2</td>",
              "      <td>0.483300</td>",
              "      <td>0.545263</td>",
              "    </tr>",
              "    <tr>",
              "      <td>3</td>",
              "      <td>0.412600</td>",
              "      <td>0.557315</td>",
              "    </tr>",
              "  </tbody>",
              "</table><p>"
            ]
          },
          "metadata": {}
        },
        {
          "output_type": "execute_result",
          "data": {
            "text/plain": [
              "TrainOutput(global_step=1701, training_loss=0.4868096380216945, metrics={'train_runtime': 2655.3087, 'train_samples_per_second': 10.241, 'train_steps_per_second': 0.641, 'total_flos': 7154515817349120.0, 'train_loss': 0.4868096380216945, 'epoch': 3.0})"
            ]
          },
          "metadata": {},
          "execution_count": 22
        }
      ],
      "execution_count": null
    },
    {
      "cell_type": "code",
      "source": [
        "preds = trainer.predict(val_dataset)\n",
        "predicted_labels = torch.argmax(torch.tensor(preds.predictions), axis=1)\n",
        "\n",
        "from sklearn.metrics import classification_report\n",
        "\n",
        "print(classification_report(val_labels, predicted_labels, target_names=[\"FAKE\", \"REAL\"]))"
      ],
      "metadata": {
        "colab": {
          "base_uri": "https://localhost:8080/",
          "height": 173
        },
        "id": "0NGxFQQxRwQa",
        "outputId": "7febf031-b723-434b-aaf3-17dd5fa58779"
      },
      "outputs": [
        {
          "output_type": "display_data",
          "data": {
            "text/plain": [
              "<IPython.core.display.HTML object>"
            ],
            "text/html": []
          },
          "metadata": {}
        },
        {
          "output_type": "stream",
          "name": "stdout",
          "text": [
            "              precision    recall  f1-score   support",
            "",
            "        FAKE       0.76      0.74      0.75      1172",
            "        REAL       0.73      0.75      0.74      1094",
            "",
            "    accuracy                           0.75      2266",
            "   macro avg       0.75      0.75      0.75      2266",
            "weighted avg       0.75      0.75      0.75      2266",
            ""
          ]
        }
      ],
      "execution_count": null
    },
    {
      "cell_type": "code",
      "source": [
        "model.save_pretrained(\"/content/drive/MyDrive/sinhala/sinhala_fake_news_model\")\n",
        "tokenizer.save_pretrained(\"/content/drive/MyDrive/sinhala/sinhala_fake_news_tokenizer\")"
      ],
      "metadata": {
        "colab": {
          "base_uri": "https://localhost:8080/"
        },
        "id": "zJywlmGSbq3R",
        "outputId": "2625ef24-9d45-438f-8035-0716fe8875b4"
      },
      "outputs": [
        {
          "output_type": "execute_result",
          "data": {
            "text/plain": [
              "('/content/drive/MyDrive/sinhala/sinhala_fake_news_tokenizer/tokenizer_config.json',",
              " '/content/drive/MyDrive/sinhala/sinhala_fake_news_tokenizer/special_tokens_map.json',",
              " '/content/drive/MyDrive/sinhala/sinhala_fake_news_tokenizer/vocab.json',",
              " '/content/drive/MyDrive/sinhala/sinhala_fake_news_tokenizer/merges.txt',",
              " '/content/drive/MyDrive/sinhala/sinhala_fake_news_tokenizer/added_tokens.json',",
              " '/content/drive/MyDrive/sinhala/sinhala_fake_news_tokenizer/tokenizer.json')"
            ]
          },
          "metadata": {},
          "execution_count": 25
        }
      ],
      "execution_count": null
    },
    {
      "cell_type": "code",
      "source": [],
      "metadata": {
        "id": "UlRCwIcIcC39"
      },
      "outputs": [],
      "execution_count": null
    },
    {
      "cell_type": "code",
      "source": [
        "# test"
      ],
      "metadata": {
        "id": "1sR2-NeeceI_"
      },
      "outputs": [],
      "execution_count": null
    },
    {
      "cell_type": "code",
      "source": [
        "import torch\n",
        "from transformers import AutoTokenizer, AutoModelForSequenceClassification\n",
        "\n",
        "# Load the model and tokenizer\n",
        "tokenizer = AutoTokenizer.from_pretrained(\"/content/drive/MyDrive/RP/sinhala_fake_news_tokenizer\")\n",
        "model = AutoModelForSequenceClassification.from_pretrained(\"/content/drive/MyDrive/RP/sinhala_fake_news_model\")\n",
        "\n",
        "# Check if GPU is available and set device\n",
        "device = torch.device(\"cuda\" if torch.cuda.is_available() else \"cpu\")\n",
        "model = model.to(device)\n",
        "\n",
        "# Example input text\n",
        "text = \"2019 වසරේ කොළඹ, මට්ටක්කුලිය ආශ්‍රිත මුහුදු තීරයේ දී හෙරොයින් මත්කුඩු කිලෝ ග්‍රෑම් 425කට අධික ප්‍රමාණයක් ප්‍රවාහනය කිරීමේ චෝදනාවට වරද පිළිගත් ඉරාන ජාතිකයින් 07 දෙනෙකුට කොළඹ මහාධිකරණය විසින් ජීවිතාන්තය දක්වා සිරදඬුවම් නියම කර තිබේ.  අදාළ චෝදනාවලට විත්තිකරුවන් වරද පිළිගැනීමෙන් අනතුරුව කොළඹ මහාධිකරණ විනිසුරු ආර්. එස්. එස්. සපුවිද මහතා විසින් මෙම තීන්දුව ලබා දී ඇත. 2019 වසරේ ජූලි මස 12 වනදා කොළඹ, මට්ටක්කුලිය ආශ්‍රිත මුහුදු තීරයේදී හෙරොයින් මත්කුඩු කිලෝ ග්‍රෑම් 425කට අධික ප්‍රමාණයක් ප්‍රවාහනය කරමින් සිටියදී පොලිස් මත්ද්‍රව්‍ය නාශක කාර්යාංශය මඟින් සිදුකළ වැටලීමකට අනුව මෙම පිරිස අත්අඩංගුවට ගෙන තිබුණි.\"\n",
        "\n",
        "# Tokenize and move inputs to the correct device\n",
        "inputs = tokenizer(\n",
        "    text,\n",
        "    truncation=True,\n",
        "    padding=True,\n",
        "    max_length=512,\n",
        "    return_tensors=\"pt\"\n",
        ")\n",
        "inputs = {key: val.to(device) for key, val in inputs.items()}\n",
        "\n",
        "# Perform inference\n",
        "model.eval()\n",
        "with torch.no_grad():\n",
        "    outputs = model(**inputs)\n",
        "    logits = outputs.logits\n",
        "\n",
        "# Convert logits to probabilities and predict\n",
        "probabilities = torch.softmax(logits, dim=-1)\n",
        "predicted_label = torch.argmax(probabilities, dim=1).item()\n",
        "\n",
        "# Map predictions to labels\n",
        "label_map = {1: \"FAKE\", 0: \"REAL\"}\n",
        "print(f\"Prediction: {label_map[predicted_label]}\")"
      ],
      "metadata": {
        "colab": {
          "base_uri": "https://localhost:8080/"
        },
        "id": "xTbME9K0cqV8",
        "outputId": "be27005d-a654-4bfd-e1ee-6dbb7308ef47"
      },
      "outputs": [
        {
          "output_type": "stream",
          "name": "stderr",
          "text": [
            "/usr/local/lib/python3.10/dist-packages/torch_xla/__init__.py:253: UserWarning: `tensorflow` can conflict with `torch-xla`. Prefer `tensorflow-cpu` when using PyTorch/XLA. To silence this warning, `pip uninstall -y tensorflow && pip install tensorflow-cpu`. If you are in a notebook environment such as Colab or Kaggle, restart your notebook runtime afterwards.\n",
            "  warnings.warn(\n",
            "WARNING:root:Found CUDA without GPU_NUM_DEVICES. Defaulting to PJRT_DEVICE=CUDA with GPU_NUM_DEVICES=1\n"
          ]
        },
        {
          "output_type": "stream",
          "name": "stdout",
          "text": [
            "Prediction: REAL\n"
          ]
        }
      ],
      "execution_count": null
    },
    {
      "cell_type": "code",
      "source": [],
      "metadata": {
        "id": "2NKohDEHdQ7e"
      },
      "outputs": [],
      "execution_count": null
    },
    {
      "cell_type": "code",
      "source": [
        "#fine tuning model\n",
        "import pandas as pd"
      ],
      "metadata": {
        "id": "wLRq70aYNdPj",
        "trusted": true,
        "execution": {
          "iopub.status.busy": "2024-11-30T04:29:23.135667Z",
          "iopub.execute_input": "2024-11-30T04:29:23.136666Z",
          "iopub.status.idle": "2024-11-30T04:29:23.489724Z",
          "shell.execute_reply.started": "2024-11-30T04:29:23.136614Z",
          "shell.execute_reply": "2024-11-30T04:29:23.488661Z"
        }
      },
      "outputs": [],
      "execution_count": null
    },
    {
      "cell_type": "code",
      "source": [
        "sinhala_fake = pd.read_excel('/kaggle/input/sindataset/sinhala final/Sinhala Fake.xlsx')\n",
        "sinhala_real = pd.read_excel('/kaggle/input/sindataset/sinhala final/Sinhala Real.xlsx')"
      ],
      "metadata": {
        "id": "U7s843q0bOoO",
        "trusted": true,
        "execution": {
          "iopub.status.busy": "2024-11-30T04:29:25.361765Z",
          "iopub.execute_input": "2024-11-30T04:29:25.362699Z",
          "iopub.status.idle": "2024-11-30T04:29:25.700842Z",
          "shell.execute_reply.started": "2024-11-30T04:29:25.362665Z",
          "shell.execute_reply": "2024-11-30T04:29:25.699928Z"
        }
      },
      "outputs": [],
      "execution_count": null
    },
    {
      "cell_type": "code",
      "source": [
        "sinhala_fake['label'] = 1\n",
        "sinhala_real['label'] = 0"
      ],
      "metadata": {
        "id": "XqT4fVabfP-W",
        "trusted": true,
        "execution": {
          "iopub.status.busy": "2024-11-30T04:29:27.062552Z",
          "iopub.execute_input": "2024-11-30T04:29:27.063026Z",
          "iopub.status.idle": "2024-11-30T04:29:27.072110Z",
          "shell.execute_reply.started": "2024-11-30T04:29:27.062981Z",
          "shell.execute_reply": "2024-11-30T04:29:27.071271Z"
        }
      },
      "outputs": [],
      "execution_count": null
    },
    {
      "cell_type": "code",
      "source": [
        "sinhala_news_df_new = pd.concat([sinhala_fake, sinhala_real], axis=0).reset_index(drop=True)"
      ],
      "metadata": {
        "id": "mT_Uq4K8bOup",
        "trusted": true,
        "execution": {
          "iopub.status.busy": "2024-11-30T04:29:27.974993Z",
          "iopub.execute_input": "2024-11-30T04:29:27.975868Z",
          "iopub.status.idle": "2024-11-30T04:29:27.984160Z",
          "shell.execute_reply.started": "2024-11-30T04:29:27.975833Z",
          "shell.execute_reply": "2024-11-30T04:29:27.983173Z"
        }
      },
      "outputs": [],
      "execution_count": null
    },
    {
      "cell_type": "code",
      "source": [
        "sinhala_news_df_new.drop(['Unnamed: 1', 'Unnamed: 2', 'Unnamed: 3'], axis=1, inplace=True)"
      ],
      "metadata": {
        "id": "59E_YkqUgx_3",
        "trusted": true,
        "execution": {
          "iopub.status.busy": "2024-11-30T04:29:28.794737Z",
          "iopub.execute_input": "2024-11-30T04:29:28.795096Z",
          "iopub.status.idle": "2024-11-30T04:29:28.803221Z",
          "shell.execute_reply.started": "2024-11-30T04:29:28.795067Z",
          "shell.execute_reply": "2024-11-30T04:29:28.802362Z"
        }
      },
      "outputs": [],
      "execution_count": null
    },
    {
      "cell_type": "code",
      "source": [
        "sinhala_news_df_new.head()"
      ],
      "metadata": {
        "colab": {
          "base_uri": "https://localhost:8080/",
          "height": 206
        },
        "id": "PCODVBBabO1s",
        "outputId": "afe52233-7d58-441d-ee71-c6d7e70ca3c8",
        "trusted": true,
        "execution": {
          "iopub.status.busy": "2024-11-30T04:29:29.519741Z",
          "iopub.execute_input": "2024-11-30T04:29:29.520716Z",
          "iopub.status.idle": "2024-11-30T04:29:29.534687Z",
          "shell.execute_reply.started": "2024-11-30T04:29:29.520670Z",
          "shell.execute_reply": "2024-11-30T04:29:29.533802Z"
        }
      },
      "outputs": [
        {
          "execution_count": 8,
          "output_type": "execute_result",
          "data": {
            "text/plain": "                                               text   label\n0  ශ්‍රී ලංකාවේ 48 වන අගවිනිසුරු ලෙස ජනාධිපති අනු...      1\n1  පසුගිය දා අවසන් වූ 5 ශ්‍රේණිය ශිෂ්‍යත්ව විභාගය...      1\n2  පාස්කු ඉරුදින ත්‍රස්ත ප්‍රහාර මාලාවෙන් වින්දිත...      1\n3  දළ වශයෙන් සෑම දින 29කට වරක් පූර්ණ සඳක් ඇති වන්...      1\n4  බදුල්ල, දුන්හිඳ ප්‍රදේශයේදී බස් රථයක් පෙරළීමෙන...      1",
            "text/html": "<div>\n<style scoped>\n    .dataframe tbody tr th:only-of-type {\n        vertical-align: middle;\n    }\n\n    .dataframe tbody tr th {\n        vertical-align: top;\n    }\n\n    .dataframe thead th {\n        text-align: right;\n    }\n</style>\n<table border=\"1\" class=\"dataframe\">\n  <thead>\n    <tr style=\"text-align: right;\">\n      <th></th>\n      <th>text</th>\n      <th>label</th>\n    </tr>\n  </thead>\n  <tbody>\n    <tr>\n      <th>0</th>\n      <td>ශ්‍රී ලංකාවේ 48 වන අගවිනිසුරු ලෙස ජනාධිපති අනු...</td>\n      <td>1</td>\n    </tr>\n    <tr>\n      <th>1</th>\n      <td>පසුගිය දා අවසන් වූ 5 ශ්‍රේණිය ශිෂ්‍යත්ව විභාගය...</td>\n      <td>1</td>\n    </tr>\n    <tr>\n      <th>2</th>\n      <td>පාස්කු ඉරුදින ත්‍රස්ත ප්‍රහාර මාලාවෙන් වින්දිත...</td>\n      <td>1</td>\n    </tr>\n    <tr>\n      <th>3</th>\n      <td>දළ වශයෙන් සෑම දින 29කට වරක් පූර්ණ සඳක් ඇති වන්...</td>\n      <td>1</td>\n    </tr>\n    <tr>\n      <th>4</th>\n      <td>බදුල්ල, දුන්හිඳ ප්‍රදේශයේදී බස් රථයක් පෙරළීමෙන...</td>\n      <td>1</td>\n    </tr>\n  </tbody>\n</table>\n</div>"
          },
          "metadata": {}
        }
      ],
      "execution_count": null
    },
    {
      "cell_type": "code",
      "source": [
        "sinhala_news_df_new.shape"
      ],
      "metadata": {
        "colab": {
          "base_uri": "https://localhost:8080/"
        },
        "id": "xHQpme9FhJ5u",
        "outputId": "d11915fa-4fb8-40f0-9a16-d46c59f58345",
        "trusted": true,
        "execution": {
          "iopub.status.busy": "2024-11-30T04:29:30.890866Z",
          "iopub.execute_input": "2024-11-30T04:29:30.891511Z",
          "iopub.status.idle": "2024-11-30T04:29:30.896845Z",
          "shell.execute_reply.started": "2024-11-30T04:29:30.891478Z",
          "shell.execute_reply": "2024-11-30T04:29:30.895890Z"
        }
      },
      "outputs": [
        {
          "execution_count": 9,
          "output_type": "execute_result",
          "data": {
            "text/plain": "(1000, 2)"
          },
          "metadata": {}
        }
      ],
      "execution_count": null
    },
    {
      "cell_type": "code",
      "source": [
        "# Assuming your dataset is in a DataFrame named 'train_data' and the label column is named 'label'\n",
        "label_counts = sinhala_news_df_new['label'].value_counts()\n",
        "print(\"Class distribution in training data:\")\n",
        "print(label_counts)"
      ],
      "metadata": {
        "colab": {
          "base_uri": "https://localhost:8080/"
        },
        "id": "s9plFinGhJ--",
        "outputId": "f0668dab-ad59-408f-c261-282b02a99329",
        "trusted": true,
        "execution": {
          "iopub.status.busy": "2024-11-30T04:29:31.690736Z",
          "iopub.execute_input": "2024-11-30T04:29:31.691101Z",
          "iopub.status.idle": "2024-11-30T04:29:31.702058Z",
          "shell.execute_reply.started": "2024-11-30T04:29:31.691070Z",
          "shell.execute_reply": "2024-11-30T04:29:31.700981Z"
        }
      },
      "outputs": [
        {
          "name": "stdout",
          "text": "Class distribution in training data:\nlabel\n1    500\n0    500\nName: count, dtype: int64\n",
          "output_type": "stream"
        }
      ],
      "execution_count": null
    },
    {
      "cell_type": "code",
      "source": [
        "from transformers import AutoTokenizer, AutoModelForMaskedLM\n",
        "\n",
        "tokenizer = AutoTokenizer.from_pretrained(\"/content/drive/MyDrive/RP/sinhala_fake_news_tokenizer\")\n",
        "model = AutoModelForMaskedLM.from_pretrained(\"/content/drive/MyDrive/RP/sinhala_fake_news_model\")"
      ],
      "metadata": {
        "colab": {
          "base_uri": "https://localhost:8080/"
        },
        "id": "OhpnLU4fhchW",
        "outputId": "06a9f4f0-591f-400e-fb82-0faf403387ad",
        "trusted": true,
        "execution": {
          "iopub.status.busy": "2024-11-30T04:30:50.270961Z",
          "iopub.execute_input": "2024-11-30T04:30:50.271729Z",
          "iopub.status.idle": "2024-11-30T04:30:52.105599Z",
          "shell.execute_reply.started": "2024-11-30T04:30:50.271695Z",
          "shell.execute_reply": "2024-11-30T04:30:52.104677Z"
        }
      },
      "outputs": [
        {
          "output_type": "stream",
          "name": "stderr",
          "text": [
            "Some weights of RobertaForMaskedLM were not initialized from the model checkpoint at /content/drive/MyDrive/RP/sinhala_fake_news_model and are newly initialized: ['lm_head.bias', 'lm_head.decoder.bias', 'lm_head.dense.bias', 'lm_head.dense.weight', 'lm_head.layer_norm.bias', 'lm_head.layer_norm.weight']\n",
            "You should probably TRAIN this model on a down-stream task to be able to use it for predictions and inference.\n"
          ]
        }
      ],
      "execution_count": null
    },
    {
      "cell_type": "code",
      "source": [
        "from sklearn.model_selection import train_test_split\n",
        "\n",
        "train_texts, val_texts, train_labels, val_labels = train_test_split(\n",
        "    sinhala_news_df_new['text '], sinhala_news_df_new['label'], test_size=0.1, random_state=42\n",
        ")"
      ],
      "metadata": {
        "id": "I7mhvCwrh9hp",
        "trusted": true,
        "execution": {
          "iopub.status.busy": "2024-11-30T04:30:58.364173Z",
          "iopub.execute_input": "2024-11-30T04:30:58.364767Z",
          "iopub.status.idle": "2024-11-30T04:30:58.896494Z",
          "shell.execute_reply.started": "2024-11-30T04:30:58.364729Z",
          "shell.execute_reply": "2024-11-30T04:30:58.895715Z"
        }
      },
      "outputs": [],
      "execution_count": null
    },
    {
      "cell_type": "code",
      "source": [
        "train_encodings = tokenizer(list(train_texts), truncation=True, padding=True, max_length=512, return_tensors=\"pt\")\n",
        "val_encodings = tokenizer(list(val_texts), truncation=True, padding=True, max_length=512, return_tensors=\"pt\")"
      ],
      "metadata": {
        "id": "i7MasYBTh9jx",
        "trusted": true,
        "execution": {
          "iopub.status.busy": "2024-11-30T04:31:00.715413Z",
          "iopub.execute_input": "2024-11-30T04:31:00.715941Z",
          "iopub.status.idle": "2024-11-30T04:31:01.166799Z",
          "shell.execute_reply.started": "2024-11-30T04:31:00.715909Z",
          "shell.execute_reply": "2024-11-30T04:31:01.166053Z"
        }
      },
      "outputs": [],
      "execution_count": null
    },
    {
      "cell_type": "code",
      "source": [
        "import torch\n",
        "\n",
        "class NewsDataset(torch.utils.data.Dataset):\n",
        "    def __init__(self, encodings, labels):\n",
        "        self.encodings = encodings\n",
        "        self.labels = labels\n",
        "\n",
        "    def __len__(self):\n",
        "        return len(self.labels)\n",
        "\n",
        "    def __getitem__(self, idx):\n",
        "        item = {\n",
        "            \"input_ids\": self.encodings[\"input_ids\"][idx],\n",
        "            \"attention_mask\": self.encodings[\"attention_mask\"][idx],\n",
        "            # The labels should be repeated for each token in the sequence\n",
        "            \"labels\": torch.tensor([self.labels[idx]] * self.encodings[\"input_ids\"][idx].shape[0], dtype=torch.long)\n",
        "        }\n",
        "        # Remove the squeeze operation as we need the labels to have sequence length\n",
        "        # item['labels'] = item['labels'].squeeze()\n",
        "        return item\n",
        "\n",
        "# Create datasets\n",
        "train_dataset = NewsDataset(train_encodings, train_labels.tolist())\n",
        "val_dataset = NewsDataset(val_encodings, val_labels.tolist())"
      ],
      "metadata": {
        "id": "c_KMnPZ9h9mK",
        "trusted": true,
        "execution": {
          "iopub.status.busy": "2024-11-30T04:31:14.476624Z",
          "iopub.execute_input": "2024-11-30T04:31:14.477360Z",
          "iopub.status.idle": "2024-11-30T04:31:14.483453Z",
          "shell.execute_reply.started": "2024-11-30T04:31:14.477324Z",
          "shell.execute_reply": "2024-11-30T04:31:14.482585Z"
        }
      },
      "outputs": [],
      "execution_count": null
    },
    {
      "cell_type": "code",
      "source": [],
      "metadata": {
        "id": "-E6LwtJ4hCcm"
      },
      "outputs": [],
      "execution_count": null
    }
  ]
}