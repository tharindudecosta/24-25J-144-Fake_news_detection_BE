{
 "cells": [
  {
   "cell_type": "code",
   "execution_count": null,
   "metadata": {},
   "outputs": [],
   "source": [
    "!pip install ultralytics\n",
    "!pip install -U ipywidgets"
   ]
  },
  {
   "cell_type": "code",
   "execution_count": null,
   "metadata": {},
   "outputs": [],
   "source": [
    "from google.colab import drive\n",
    "drive.mount('/content/drive')"
   ]
  },
  {
   "cell_type": "code",
   "execution_count": null,
   "metadata": {},
   "outputs": [],
   "source": [
    "import os\n",
    "\n",
    "# Define paths for input images and output labels\n",
    "base_path = \"/content/drive/MyDrive/RP/DataSets/imageManipulationDetection/imageManipulationDetection/images\"  \n",
    "output_labels_path = \"/content/drive/MyDrive/RP/DataSets/imageManipulationDetection/imageManipulationDetection/labels\"\n",
    "\n",
    "# Folders to process\n",
    "folders = [\"train\", \"valid\", \"test\"]\n",
    "categories = {\"Real Human\": 0, \"Edited Images\": 1,\"AI human 2\":2}"
   ]
  },
  {
   "cell_type": "code",
   "execution_count": null,
   "metadata": {},
   "outputs": [],
   "source": [
    "os.makedirs(output_labels_path, exist_ok=True)\n",
    "\n",
    "def generate_labels():\n",
    "    for folder in folders:\n",
    "        folder_path = os.path.join(base_path, folder)\n",
    "        label_folder_path = os.path.join(output_labels_path, folder)\n",
    "        os.makedirs(label_folder_path, exist_ok=True)\n",
    "\n",
    "        for category, label in categories.items():\n",
    "            category_path = os.path.join(folder_path, category)\n",
    "\n",
    "            if os.path.exists(category_path):\n",
    "\n",
    "                category_label_path = os.path.join(label_folder_path, category)\n",
    "                os.makedirs(category_label_path, exist_ok=True)\n",
    "\n",
    "                for filename in os.listdir(category_path):\n",
    "                    if filename.lower().endswith((\".png\", \".jpg\", \".jpeg\",\".webp\")):\n",
    "\n",
    "                        label_file_path = os.path.join(\n",
    "                            category_label_path, os.path.splitext(filename)[0] + \".txt\"\n",
    "                        )\n",
    "\n",
    "\n",
    "                        with open(label_file_path, \"w\") as label_file:\n",
    "                            label_file.write(f\"{label}\\n\")\n",
    "\n",
    "                        print(f\"Label for {filename} written to {label_file_path}\")\n",
    "            else:\n",
    "                print(f\"Category folder does not exist: {category_path}\")\n",
    "\n",
    "generate_labels()"
   ]
  },
  {
   "cell_type": "code",
   "execution_count": null,
   "metadata": {},
   "outputs": [],
   "source": [
    "import os\n",
    "\n",
    "# Base path\n",
    "base_path = \"/content/drive/MyDrive/RP/DataSets/imageManipulationDetection/imageManipulationDetection/images\"  \n",
    "\n",
    "def get_distinct_image_types(base_path):\n",
    "    # Set to store unique file extensions\n",
    "    image_types = set()\n",
    "\n",
    "    # Walk through the directory and gather extensions\n",
    "    for root, dirs, files in os.walk(base_path):\n",
    "        for file in files:\n",
    "            # Get the file extension\n",
    "            ext = os.path.splitext(file)[1].lower()  # Convert to lowercase for consistency\n",
    "            if ext:  # Ensure the file has an extension\n",
    "                image_types.add(ext)\n",
    "\n",
    "    return image_types\n",
    "\n",
    "# Get distinct image types\n",
    "distinct_image_types = get_distinct_image_types(base_path)\n",
    "\n",
    "# Print results\n",
    "print(\"Distinct image types found:\")\n",
    "for img_type in distinct_image_types:\n",
    "    print(img_type)\n"
   ]
  },
  {
   "cell_type": "code",
   "execution_count": null,
   "metadata": {},
   "outputs": [],
   "source": [
    "# Import necessary libraries\n",
    "from ultralytics import YOLO\n",
    "\n",
    "# Load the YOLOv8 classification model\n",
    "model = YOLO('yolov8s-cls.pt')\n",
    "\n",
    "# Train the model with the desired settings\n",
    "model.train(data='/content/drive/MyDrive/RP/DataSets/imageManipulationDetection/imageManipulationDetection/images', epochs=100, batch=16, imgsz=640,\n",
    "               optimizer='Adam', lr0=0.0001,\n",
    "               save=True, project='runs/train', name='exp', exist_ok=True)\n"
   ]
  },
  {
   "cell_type": "code",
   "execution_count": null,
   "metadata": {},
   "outputs": [],
   "source": [
    "from ultralytics import YOLO\n",
    "model = YOLO(\"/content/drive/MyDrive/RP/Models/best.pt\")"
   ]
  },
  {
   "cell_type": "code",
   "execution_count": null,
   "metadata": {},
   "outputs": [],
   "source": [
    "model.names"
   ]
  },
  {
   "cell_type": "code",
   "execution_count": null,
   "metadata": {},
   "outputs": [],
   "source": [
    "results = model(\"/content/drive/MyDrive/RP/DataSets/imageManipulationDetection/imageManipulationDetection/images/test/AI human 2/6911524a-df7e-4518-9b5a-aa3546dc72fe-1.jpg\")"
   ]
  },
  {
   "cell_type": "code",
   "execution_count": null,
   "metadata": {},
   "outputs": [],
   "source": [
    "# Access prediction probabilities\n",
    "probs = results[0].probs  # Extract probabilities for the first image in the batch\n",
    "print(probs)\n",
    "# Get the class with the highest probability\n",
    "predicted_class_id = probs.top1  # Class ID with the highest probability\n",
    "confidence = probs.data[predicted_class_id]  # Extract numerical confidence score\n",
    "label = model.names[predicted_class_id]  # Get the class label\n",
    "\n",
    "print(f\"Predicted Class: {label}, Class ID: {predicted_class_id}, Confidence: {confidence:.2f}\")"
   ]
  },
  {
   "cell_type": "code",
   "execution_count": null,
   "metadata": {},
   "outputs": [],
   "source": [
    "for i, prob in enumerate(probs.data):\n",
    "    print(f\"Class {i} ({model.names[i]}): {prob:.2f}\")"
   ]
  },
  {
   "cell_type": "code",
   "execution_count": null,
   "metadata": {},
   "outputs": [],
   "source": [
    "import os\n",
    "\n",
    "# Define the dataset directory paths\n",
    "train_dir = '/content/drive/MyDrive/RP/DataSets/imageManipulationDetection/imageManipulationDetection/images/train'\n",
    "val_dir = '/content/drive/MyDrive/RP/DataSets/imageManipulationDetection/imageManipulationDetection/images/val'\n",
    "\n",
    "def count_files_in_classes(directory):\n",
    "    class_counts = {}\n",
    "    for class_name in os.listdir(directory):\n",
    "        class_path = os.path.join(directory, class_name)\n",
    "        if os.path.isdir(class_path):\n",
    "            class_counts[class_name] = len(os.listdir(class_path))\n",
    "    return class_counts\n",
    "\n",
    "# Count training and validation data\n",
    "train_counts = count_files_in_classes(train_dir)\n",
    "val_counts = count_files_in_classes(val_dir)\n",
    "\n",
    "print(\"Training Set Class Distribution:\", train_counts)\n",
    "print(\"Validation Set Class Distribution:\", val_counts)\n"
   ]
  },
  {
   "cell_type": "code",
   "execution_count": null,
   "metadata": {},
   "outputs": [],
   "source": []
  }
 ],
 "metadata": {
  "language_info": {
   "name": "python"
  }
 },
 "nbformat": 4,
 "nbformat_minor": 2
}
