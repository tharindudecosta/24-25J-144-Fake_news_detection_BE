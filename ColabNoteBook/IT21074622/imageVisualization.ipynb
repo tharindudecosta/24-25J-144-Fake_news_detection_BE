{
 "cells": [
  {
   "cell_type": "code",
   "execution_count": null,
   "metadata": {},
   "outputs": [],
   "source": [
    "!pip install ultralytics\n",
    "# !pip install -U ipywidgets\n",
    "!pip install ttach"
   ]
  },
  {
   "cell_type": "markdown",
   "metadata": {},
   "source": [
    "Collecting ultralytics\n",
    "  Downloading ultralytics-8.3.39-py3-none-any.whl.metadata (35 kB)\n",
    "Requirement already satisfied: numpy>=1.23.0 in /usr/local/lib/python3.10/dist-packages (from ultralytics) (1.26.4)\n",
    "Requirement already satisfied: matplotlib>=3.3.0 in /usr/local/lib/python3.10/dist-packages (from ultralytics) (3.8.0)\n",
    "Requirement already satisfied: opencv-python>=4.6.0 in /usr/local/lib/python3.10/dist-packages (from ultralytics) (4.10.0.84)\n",
    "Requirement already satisfied: pillow>=7.1.2 in /usr/local/lib/python3.10/dist-packages (from ultralytics) (11.0.0)\n",
    "Requirement already satisfied: pyyaml>=5.3.1 in /usr/local/lib/python3.10/dist-packages (from ultralytics) (6.0.2)\n",
    "Requirement already satisfied: requests>=2.23.0 in /usr/local/lib/python3.10/dist-packages (from ultralytics) (2.32.3)\n",
    "Requirement already satisfied: scipy>=1.4.1 in /usr/local/lib/python3.10/dist-packages (from ultralytics) (1.13.1)\n",
    "Requirement already satisfied: torch>=1.8.0 in /usr/local/lib/python3.10/dist-packages (from ultralytics) (2.5.1+cu121)\n",
    "Requirement already satisfied: torchvision>=0.9.0 in /usr/local/lib/python3.10/dist-packages (from ultralytics) (0.20.1+cu121)\n",
    "Requirement already satisfied: tqdm>=4.64.0 in /usr/local/lib/python3.10/dist-packages (from ultralytics) (4.66.6)\n",
    "Requirement already satisfied: psutil in /usr/local/lib/python3.10/dist-packages (from ultralytics) (5.9.5)\n",
    "Requirement already satisfied: py-cpuinfo in /usr/local/lib/python3.10/dist-packages (from ultralytics) (9.0.0)\n",
    "Requirement already satisfied: pandas>=1.1.4 in /usr/local/lib/python3.10/dist-packages (from ultralytics) (2.2.2)\n",
    "Requirement already satisfied: seaborn>=0.11.0 in /usr/local/lib/python3.10/dist-packages (from ultralytics) (0.13.2)\n",
    "Collecting ultralytics-thop>=2.0.0 (from ultralytics)\n",
    "  Downloading ultralytics_thop-2.0.12-py3-none-any.whl.metadata (9.4 kB)\n",
    "Requirement already satisfied: contourpy>=1.0.1 in /usr/local/lib/python3.10/dist-packages (from matplotlib>=3.3.0->ultralytics) (1.3.1)\n",
    "Requirement already satisfied: cycler>=0.10 in /usr/local/lib/python3.10/dist-packages (from matplotlib>=3.3.0->ultralytics) (0.12.1)\n",
    "Requirement already satisfied: fonttools>=4.22.0 in /usr/local/lib/python3.10/dist-packages (from matplotlib>=3.3.0->ultralytics) (4.55.0)\n",
    "Requirement already satisfied: kiwisolver>=1.0.1 in /usr/local/lib/python3.10/dist-packages (from matplotlib>=3.3.0->ultralytics) (1.4.7)\n",
    "Requirement already satisfied: packaging>=20.0 in /usr/local/lib/python3.10/dist-packages (from matplotlib>=3.3.0->ultralytics) (24.2)\n",
    "Requirement already satisfied: pyparsing>=2.3.1 in /usr/local/lib/python3.10/dist-packages (from matplotlib>=3.3.0->ultralytics) (3.2.0)\n",
    "Requirement already satisfied: python-dateutil>=2.7 in /usr/local/lib/python3.10/dist-packages (from matplotlib>=3.3.0->ultralytics) (2.8.2)\n",
    "Requirement already satisfied: pytz>=2020.1 in /usr/local/lib/python3.10/dist-packages (from pandas>=1.1.4->ultralytics) (2024.2)\n",
    "Requirement already satisfied: tzdata>=2022.7 in /usr/local/lib/python3.10/dist-packages (from pandas>=1.1.4->ultralytics) (2024.2)\n",
    "Requirement already satisfied: charset-normalizer<4,>=2 in /usr/local/lib/python3.10/dist-packages (from requests>=2.23.0->ultralytics) (3.4.0)\n",
    "Requirement already satisfied: idna<4,>=2.5 in /usr/local/lib/python3.10/dist-packages (from requests>=2.23.0->ultralytics) (3.10)\n",
    "Requirement already satisfied: urllib3<3,>=1.21.1 in /usr/local/lib/python3.10/dist-packages (from requests>=2.23.0->ultralytics) (2.2.3)\n",
    "Requirement already satisfied: certifi>=2017.4.17 in /usr/local/lib/python3.10/dist-packages (from requests>=2.23.0->ultralytics) (2024.8.30)\n",
    "Requirement already satisfied: filelock in /usr/local/lib/python3.10/dist-packages (from torch>=1.8.0->ultralytics) (3.16.1)\n",
    "Requirement already satisfied: typing-extensions>=4.8.0 in /usr/local/lib/python3.10/dist-packages (from torch>=1.8.0->ultralytics) (4.12.2)\n",
    "Requirement already satisfied: networkx in /usr/local/lib/python3.10/dist-packages (from torch>=1.8.0->ultralytics) (3.4.2)\n",
    "Requirement already satisfied: jinja2 in /usr/local/lib/python3.10/dist-packages (from torch>=1.8.0->ultralytics) (3.1.4)\n",
    "Requirement already satisfied: fsspec in /usr/local/lib/python3.10/dist-packages (from torch>=1.8.0->ultralytics) (2024.10.0)\n",
    "Requirement already satisfied: sympy==1.13.1 in /usr/local/lib/python3.10/dist-packages (from torch>=1.8.0->ultralytics) (1.13.1)\n",
    "Requirement already satisfied: mpmath<1.4,>=1.1.0 in /usr/local/lib/python3.10/dist-packages (from sympy==1.13.1->torch>=1.8.0->ultralytics) (1.3.0)\n",
    "Requirement already satisfied: six>=1.5 in /usr/local/lib/python3.10/dist-packages (from python-dateutil>=2.7->matplotlib>=3.3.0->ultralytics) (1.16.0)\n",
    "Requirement already satisfied: MarkupSafe>=2.0 in /usr/local/lib/python3.10/dist-packages (from jinja2->torch>=1.8.0->ultralytics) (3.0.2)\n",
    "Downloading ultralytics-8.3.39-py3-none-any.whl (896 kB)\n",
    "   ━━━━━━━━━━━━━━━━━━━━━━━━━━━━━━━━━━━━━━━━ 896.9/896.9 kB 39.0 MB/s eta 0:00:00\n",
    "Downloading ultralytics_thop-2.0.12-py3-none-any.whl (26 kB)\n",
    "Installing collected packages: ultralytics-thop, ultralytics\n",
    "Successfully installed ultralytics-8.3.39 ultralytics-thop-2.0.12\n",
    "Collecting ttach\n",
    "  Downloading ttach-0.0.3-py3-none-any.whl.metadata (5.2 kB)\n",
    "Downloading ttach-0.0.3-py3-none-any.whl (9.8 kB)\n",
    "Installing collected packages: ttach\n",
    "Successfully installed ttach-0.0.3"
   ]
  },
  {
   "cell_type": "code",
   "execution_count": null,
   "metadata": {},
   "outputs": [],
   "source": [
    "from google.colab import drive\n",
    "drive.mount('/content/drive')"
   ]
  },
  {
   "cell_type": "markdown",
   "metadata": {},
   "source": [
    "Mounted at /content/drive"
   ]
  },
  {
   "cell_type": "code",
   "execution_count": null,
   "metadata": {},
   "outputs": [],
   "source": [
    "from ultralytics import YOLO\n",
    "import warnings\n",
    "warnings.filterwarnings('ignore')\n",
    "warnings.simplefilter('ignore')\n",
    "import torch\n",
    "import cv2\n",
    "import numpy as np\n",
    "import matplotlib.pyplot as plt\n",
    "import requests\n",
    "import torchvision.transforms as transforms\n",
    "from PIL import Image\n",
    "import io"
   ]
  },
  {
   "cell_type": "code",
   "execution_count": null,
   "metadata": {},
   "outputs": [],
   "source": [
    "Creating new Ultralytics Settings v0.0.6 file ✅ \n",
    "View Ultralytics Settings with 'yolo settings' or at '/root/.config/Ultralytics/settings.json'\n",
    "Update Settings with 'yolo settings key=value', i.e. 'yolo settings runs_dir=path/to/dir'. For help see https://docs.ultralytics.com/quickstart/#ultralytics-settings."
   ]
  },
  {
   "cell_type": "code",
   "execution_count": null,
   "metadata": {},
   "outputs": [],
   "source": [
    "plt.rcParams[\"figure.figsize\"] = [3.0, 3.0]"
   ]
  },
  {
   "cell_type": "code",
   "execution_count": null,
   "metadata": {},
   "outputs": [],
   "source": [
    "from yolo_cam.eigen_cam import EigenCAM\n",
    "from yolo_cam.utils.image import show_cam_on_image, scale_cam_image"
   ]
  },
  {
   "cell_type": "code",
   "execution_count": null,
   "metadata": {},
   "outputs": [],
   "source": [
    "img = cv2.imread('/content/drive/MyDrive/RP/DataSets/imageManipulationDetection/imageManipulationDetection/images/test/Real Human/portrait-5115894_640.jpg')\n",
    "img = cv2.resize(img, (832, 832))\n",
    "rgb_img = img.copy()\n",
    "img = np.float32(img) / 255"
   ]
  },
  {
   "cell_type": "code",
   "execution_count": null,
   "metadata": {},
   "outputs": [],
   "source": [
    "# model = YOLO('models/yolov8n-cls.pt')\n",
    "# model.cpu()\n",
    "model = YOLO('/content/drive/MyDrive/RP/Models/best.pt')\n",
    "model.cpu()"
   ]
  },
  {
   "cell_type": "markdown",
   "metadata": {},
   "source": [
    "YOLO(\n",
    "  (model): ClassificationModel(\n",
    "    (model): Sequential(\n",
    "      (0): Conv(\n",
    "        (conv): Conv2d(3, 32, kernel_size=(3, 3), stride=(2, 2), padding=(1, 1), bias=False)\n",
    "        (bn): BatchNorm2d(32, eps=1e-05, momentum=0.1, affine=True, track_running_stats=True)\n",
    "        (act): SiLU(inplace=True)\n",
    "      )\n",
    "      (1): Conv(\n",
    "        (conv): Conv2d(32, 64, kernel_size=(3, 3), stride=(2, 2), padding=(1, 1), bias=False)\n",
    "        (bn): BatchNorm2d(64, eps=1e-05, momentum=0.1, affine=True, track_running_stats=True)\n",
    "        (act): SiLU(inplace=True)\n",
    "      )\n",
    "      (2): C2f(\n",
    "        (cv1): Conv(\n",
    "          (conv): Conv2d(64, 64, kernel_size=(1, 1), stride=(1, 1), bias=False)\n",
    "          (bn): BatchNorm2d(64, eps=1e-05, momentum=0.1, affine=True, track_running_stats=True)\n",
    "          (act): SiLU(inplace=True)\n",
    "        )\n",
    "        (cv2): Conv(\n",
    "          (conv): Conv2d(96, 64, kernel_size=(1, 1), stride=(1, 1), bias=False)\n",
    "          (bn): BatchNorm2d(64, eps=1e-05, momentum=0.1, affine=True, track_running_stats=True)\n",
    "          (act): SiLU(inplace=True)\n",
    "        )\n",
    "        (m): ModuleList(\n",
    "          (0): Bottleneck(\n",
    "            (cv1): Conv(\n",
    "              (conv): Conv2d(32, 32, kernel_size=(3, 3), stride=(1, 1), padding=(1, 1), bias=False)\n",
    "              (bn): BatchNorm2d(32, eps=1e-05, momentum=0.1, affine=True, track_running_stats=True)\n",
    "              (act): SiLU(inplace=True)\n",
    "            )\n",
    "            (cv2): Conv(\n",
    "              (conv): Conv2d(32, 32, kernel_size=(3, 3), stride=(1, 1), padding=(1, 1), bias=False)\n",
    "              (bn): BatchNorm2d(32, eps=1e-05, momentum=0.1, affine=True, track_running_stats=True)\n",
    "              (act): SiLU(inplace=True)\n",
    "            )\n",
    "          )\n",
    "        )\n",
    "      )\n",
    "      (3): Conv(\n",
    "        (conv): Conv2d(64, 128, kernel_size=(3, 3), stride=(2, 2), padding=(1, 1), bias=False)\n",
    "        (bn): BatchNorm2d(128, eps=1e-05, momentum=0.1, affine=True, track_running_stats=True)\n",
    "        (act): SiLU(inplace=True)\n",
    "      )\n",
    "      (4): C2f(\n",
    "        (cv1): Conv(\n",
    "          (conv): Conv2d(128, 128, kernel_size=(1, 1), stride=(1, 1), bias=False)\n",
    "          (bn): BatchNorm2d(128, eps=1e-05, momentum=0.1, affine=True, track_running_stats=True)\n",
    "          (act): SiLU(inplace=True)\n",
    "        )\n",
    "        (cv2): Conv(\n",
    "          (conv): Conv2d(256, 128, kernel_size=(1, 1), stride=(1, 1), bias=False)\n",
    "          (bn): BatchNorm2d(128, eps=1e-05, momentum=0.1, affine=True, track_running_stats=True)\n",
    "          (act): SiLU(inplace=True)\n",
    "        )\n",
    "        (m): ModuleList(\n",
    "          (0-1): 2 x Bottleneck(\n",
    "            (cv1): Conv(\n",
    "              (conv): Conv2d(64, 64, kernel_size=(3, 3), stride=(1, 1), padding=(1, 1), bias=False)\n",
    "              (bn): BatchNorm2d(64, eps=1e-05, momentum=0.1, affine=True, track_running_stats=True)\n",
    "              (act): SiLU(inplace=True)\n",
    "            )\n",
    "            (cv2): Conv(\n",
    "              (conv): Conv2d(64, 64, kernel_size=(3, 3), stride=(1, 1), padding=(1, 1), bias=False)\n",
    "              (bn): BatchNorm2d(64, eps=1e-05, momentum=0.1, affine=True, track_running_stats=True)\n",
    "              (act): SiLU(inplace=True)\n",
    "            )\n",
    "          )\n",
    "        )\n",
    "      )\n",
    "      (5): Conv(\n",
    "        (conv): Conv2d(128, 256, kernel_size=(3, 3), stride=(2, 2), padding=(1, 1), bias=False)\n",
    "        (bn): BatchNorm2d(256, eps=1e-05, momentum=0.1, affine=True, track_running_stats=True)\n",
    "        (act): SiLU(inplace=True)\n",
    "      )\n",
    "      (6): C2f(\n",
    "        (cv1): Conv(\n",
    "          (conv): Conv2d(256, 256, kernel_size=(1, 1), stride=(1, 1), bias=False)\n",
    "          (bn): BatchNorm2d(256, eps=1e-05, momentum=0.1, affine=True, track_running_stats=True)\n",
    "          (act): SiLU(inplace=True)\n",
    "        )\n",
    "        (cv2): Conv(\n",
    "          (conv): Conv2d(512, 256, kernel_size=(1, 1), stride=(1, 1), bias=False)\n",
    "          (bn): BatchNorm2d(256, eps=1e-05, momentum=0.1, affine=True, track_running_stats=True)\n",
    "          (act): SiLU(inplace=True)\n",
    "        )\n",
    "        (m): ModuleList(\n",
    "          (0-1): 2 x Bottleneck(\n",
    "            (cv1): Conv(\n",
    "              (conv): Conv2d(128, 128, kernel_size=(3, 3), stride=(1, 1), padding=(1, 1), bias=False)\n",
    "              (bn): BatchNorm2d(128, eps=1e-05, momentum=0.1, affine=True, track_running_stats=True)\n",
    "              (act): SiLU(inplace=True)\n",
    "            )\n",
    "            (cv2): Conv(\n",
    "              (conv): Conv2d(128, 128, kernel_size=(3, 3), stride=(1, 1), padding=(1, 1), bias=False)\n",
    "              (bn): BatchNorm2d(128, eps=1e-05, momentum=0.1, affine=True, track_running_stats=True)\n",
    "              (act): SiLU(inplace=True)\n",
    "            )\n",
    "          )\n",
    "        )\n",
    "      )\n",
    "      (7): Conv(\n",
    "        (conv): Conv2d(256, 512, kernel_size=(3, 3), stride=(2, 2), padding=(1, 1), bias=False)\n",
    "        (bn): BatchNorm2d(512, eps=1e-05, momentum=0.1, affine=True, track_running_stats=True)\n",
    "        (act): SiLU(inplace=True)\n",
    "      )\n",
    "      (8): C2f(\n",
    "        (cv1): Conv(\n",
    "          (conv): Conv2d(512, 512, kernel_size=(1, 1), stride=(1, 1), bias=False)\n",
    "          (bn): BatchNorm2d(512, eps=1e-05, momentum=0.1, affine=True, track_running_stats=True)\n",
    "          (act): SiLU(inplace=True)\n",
    "        )\n",
    "        (cv2): Conv(\n",
    "          (conv): Conv2d(768, 512, kernel_size=(1, 1), stride=(1, 1), bias=False)\n",
    "          (bn): BatchNorm2d(512, eps=1e-05, momentum=0.1, affine=True, track_running_stats=True)\n",
    "          (act): SiLU(inplace=True)\n",
    "        )\n",
    "        (m): ModuleList(\n",
    "          (0): Bottleneck(\n",
    "            (cv1): Conv(\n",
    "              (conv): Conv2d(256, 256, kernel_size=(3, 3), stride=(1, 1), padding=(1, 1), bias=False)\n",
    "              (bn): BatchNorm2d(256, eps=1e-05, momentum=0.1, affine=True, track_running_stats=True)\n",
    "              (act): SiLU(inplace=True)\n",
    "            )\n",
    "            (cv2): Conv(\n",
    "              (conv): Conv2d(256, 256, kernel_size=(3, 3), stride=(1, 1), padding=(1, 1), bias=False)\n",
    "              (bn): BatchNorm2d(256, eps=1e-05, momentum=0.1, affine=True, track_running_stats=True)\n",
    "              (act): SiLU(inplace=True)\n",
    "            )\n",
    "          )\n",
    "        )\n",
    "      )\n",
    "      (9): Classify(\n",
    "        (conv): Conv(\n",
    "          (conv): Conv2d(512, 1280, kernel_size=(1, 1), stride=(1, 1), bias=False)\n",
    "          (bn): BatchNorm2d(1280, eps=1e-05, momentum=0.1, affine=True, track_running_stats=True)\n",
    "          (act): SiLU(inplace=True)\n",
    "        )\n",
    "        (pool): AdaptiveAvgPool2d(output_size=1)\n",
    "        (drop): Dropout(p=0.0, inplace=True)\n",
    "        (linear): Linear(in_features=1280, out_features=3, bias=True)\n",
    "      )\n",
    "    )\n",
    "  )\n",
    ")"
   ]
  },
  {
   "cell_type": "code",
   "execution_count": null,
   "metadata": {},
   "outputs": [],
   "source": [
    "results = model(rgb_img)\n",
    "print(results[0]) # Print the outputs"
   ]
  },
  {
   "cell_type": "markdown",
   "metadata": {},
   "source": [
    "\n",
    "0: 640x640 Real Human 1.00, Edited Images 0.00, AI human 2 0.00, 403.9ms\n",
    "Speed: 70.5ms preprocess, 403.9ms inference, 3.6ms postprocess per image at shape (1, 3, 640, 640)\n",
    "ultralytics.engine.results.Results object with attributes:\n",
    "\n",
    "boxes: None\n",
    "keypoints: None\n",
    "masks: None\n",
    "names: {0: 'AI human 2', 1: 'Edited Images', 2: 'Real Human'}\n",
    "obb: None\n",
    "orig_img: array([[[222, 225, 216],\n",
    "        [221, 223, 213],\n",
    "        [223, 223, 213],\n",
    "        ...,\n",
    "        [251, 250, 246],\n",
    "        [251, 250, 246],\n",
    "        [252, 251, 247]],\n",
    "\n",
    "       [[222, 225, 216],\n",
    "        [222, 223, 214],\n",
    "        [224, 224, 214],\n",
    "        ...,\n",
    "        [252, 251, 247],\n",
    "        [252, 252, 248],\n",
    "        [253, 252, 248]],\n",
    "\n",
    "       [[222, 225, 216],\n",
    "        [222, 224, 214],\n",
    "        [225, 225, 215],\n",
    "        ...,\n",
    "        [254, 253, 249],\n",
    "        [254, 254, 250],\n",
    "        [254, 254, 250]],\n",
    "\n",
    "       ...,\n",
    "\n",
    "       [[124, 118, 107],\n",
    "        [126, 119, 109],\n",
    "        [127, 120, 108],\n",
    "        ...,\n",
    "        [150, 142, 129],\n",
    "        [148, 140, 127],\n",
    "        [146, 138, 125]],\n",
    "\n",
    "       [[126, 118, 108],\n",
    "        [128, 120, 110],\n",
    "        [130, 122, 110],\n",
    "        ...,\n",
    "        [151, 142, 131],\n",
    "        [149, 140, 129],\n",
    "        [147, 138, 127]],\n",
    "\n",
    "       [[127, 118, 108],\n",
    "        [129, 120, 110],\n",
    "        [131, 123, 111],\n",
    "        ...,\n",
    "        [152, 143, 133],\n",
    "        [150, 140, 130],\n",
    "        [147, 138, 128]]], dtype=uint8)\n",
    "orig_shape: (832, 832)\n",
    "path: 'image0.jpg'\n",
    "probs: ultralytics.engine.results.Probs object\n",
    "save_dir: 'runs/classify/predict'\n",
    "speed: {'preprocess': 70.46914100646973, 'inference': 403.9466381072998, 'postprocess': 3.5996437072753906}"
   ]
  },
  {
   "cell_type": "code",
   "execution_count": null,
   "metadata": {},
   "outputs": [],
   "source": [
    "model.names"
   ]
  },
  {
   "cell_type": "markdown",
   "metadata": {},
   "source": [
    "{0: 'AI human 2', 1: 'Edited Images', 2: 'Real Human'}"
   ]
  },
  {
   "cell_type": "code",
   "execution_count": null,
   "metadata": {},
   "outputs": [],
   "source": [
    "target_layers =[model.model.model[-3]]"
   ]
  },
  {
   "cell_type": "code",
   "execution_count": null,
   "metadata": {},
   "outputs": [],
   "source": [
    "cam = EigenCAM(model, target_layers,task='cls')"
   ]
  },
  {
   "cell_type": "code",
   "execution_count": null,
   "metadata": {},
   "outputs": [],
   "source": [
    "grayscale_cam = cam(rgb_img)[0, :, :]\n",
    "cam_image = show_cam_on_image(img, grayscale_cam, use_rgb=True)\n",
    "plt.imshow(cam_image)\n",
    "plt.show()"
   ]
  },
  {
   "cell_type": "markdown",
   "metadata": {},
   "source": [
    "\n",
    "0: 640x640 Real Human 1.00, Edited Images 0.00, AI human 2 0.00, 174.3ms\n",
    "Speed: 18.6ms preprocess, 174.3ms inference, 0.1ms postprocess per image at shape (1, 3, 640, 640)\n"
   ]
  },
  {
   "cell_type": "code",
   "execution_count": null,
   "metadata": {},
   "outputs": [],
   "source": [
    "cam = EigenCAM(model, target_layers,task='cls')\n",
    "grayscale_cam = cam(rgb_img)[0, :, :]\n",
    "cam_image = show_cam_on_image(img, grayscale_cam, use_rgb=True)\n",
    "plt.imshow(cam_image)\n",
    "plt.show()"
   ]
  },
  {
   "cell_type": "markdown",
   "metadata": {},
   "source": [
    "\n",
    "0: 640x640 Edited Images 0.98, Real Human 0.02, AI human 2 0.01, 157.0ms\n",
    "Speed: 17.2ms preprocess, 157.0ms inference, 0.1ms postprocess per image at shape (1, 3, 640, 640)\n"
   ]
  },
  {
   "cell_type": "code",
   "execution_count": null,
   "metadata": {},
   "outputs": [],
   "source": [
    "target_layers =[model.model.model[-2], model.model.model[-3], model.model.model[-4]]"
   ]
  },
  {
   "cell_type": "code",
   "execution_count": null,
   "metadata": {},
   "outputs": [],
   "source": [
    "cam = EigenCAM(model, target_layers,task='cls')\n",
    "grayscale_cam = cam(rgb_img)[0, :, :]\n",
    "cam_image = show_cam_on_image(img, grayscale_cam, use_rgb=True)\n",
    "plt.imshow(cam_image)\n",
    "plt.show()"
   ]
  },
  {
   "cell_type": "code",
   "execution_count": null,
   "metadata": {},
   "outputs": [],
   "source": [
    "\n",
    "0: 640x640 Edited Images 0.98, Real Human 0.02, AI human 2 0.01, 151.5ms\n",
    "Speed: 16.9ms preprocess, 151.5ms inference, 0.1ms postprocess per image at shape (1, 3, 640, 640)\n"
   ]
  },
  {
   "cell_type": "code",
   "execution_count": null,
   "metadata": {},
   "outputs": [],
   "source": []
  }
 ],
 "metadata": {
  "language_info": {
   "name": "python"
  }
 },
 "nbformat": 4,
 "nbformat_minor": 2
}
